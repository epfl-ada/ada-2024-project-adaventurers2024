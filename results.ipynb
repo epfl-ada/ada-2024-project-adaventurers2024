{
 "cells": [
  {
   "cell_type": "markdown",
   "metadata": {},
   "source": [
    "# Results notebook"
   ]
  },
  {
   "cell_type": "markdown",
   "metadata": {},
   "source": [
    "## Data preprocessing"
   ]
  },
  {
   "cell_type": "code",
   "execution_count": null,
   "metadata": {},
   "outputs": [],
   "source": [
    "import pandas as pd"
   ]
  },
  {
   "cell_type": "code",
   "execution_count": null,
   "metadata": {},
   "outputs": [],
   "source": [
    "def extract_year(date):\n",
    "    if date:\n",
    "        return str(date).split('-')[0]\n",
    "    return None"
   ]
  },
  {
   "cell_type": "markdown",
   "metadata": {},
   "source": [
    "#### CMU dataset\n",
    "\n",
    "Link to download the data: https://www.cs.cmu.edu/~ark/personas/"
   ]
  },
  {
   "cell_type": "code",
   "execution_count": null,
   "metadata": {},
   "outputs": [],
   "source": [
    "df_cmu_movie_metadata = pd.read_csv('data/cmu/movie.metadata.tsv', sep='\\t', header=None)\n",
    "df_cmu_movie_metadata.columns = ['wikipedia_movie_id', 'freebase_movie_id', 'name', 'release_date', 'revenue', 'runtime', 'languages', 'countries', 'genres']\n",
    "df_cmu_movie_metadata.sample(5)"
   ]
  },
  {
   "cell_type": "code",
   "execution_count": null,
   "metadata": {},
   "outputs": [],
   "source": [
    "df_cmu_movie_metadata.info()"
   ]
  },
  {
   "cell_type": "code",
   "execution_count": null,
   "metadata": {},
   "outputs": [],
   "source": [
    "print(\"CMU Movie Metadata shape before filtering: \", df_cmu_movie_metadata.shape)"
   ]
  },
  {
   "cell_type": "code",
   "execution_count": null,
   "metadata": {},
   "outputs": [],
   "source": [
    "print(\"Number of movies with revenue information: \", df_cmu_movie_metadata[df_cmu_movie_metadata['revenue'].notnull()].shape)\n",
    "# We need to update this column with updated information"
   ]
  },
  {
   "cell_type": "code",
   "execution_count": null,
   "metadata": {},
   "outputs": [],
   "source": [
    "print(\"Number of movies with release date information: \", df_cmu_movie_metadata[df_cmu_movie_metadata['release_date'].notnull()].shape)\n",
    "df_cmu_movie_metadata.dropna(subset=['release_date'], inplace=True)"
   ]
  },
  {
   "cell_type": "code",
   "execution_count": null,
   "metadata": {},
   "outputs": [],
   "source": [
    "df_cmu_movie_metadata['release_year'] = df_cmu_movie_metadata['release_date'].apply(extract_year)\n",
    "df_cmu_movie_metadata.head()"
   ]
  },
  {
   "cell_type": "code",
   "execution_count": null,
   "metadata": {},
   "outputs": [],
   "source": [
    "df_cmu_plot_summaries = pd.read_csv('data/cmu/plot_summaries.txt', sep='\\t', header=None)\n",
    "df_cmu_plot_summaries.columns = ['wiki_id', 'summary']\n",
    "df_cmu_plot_summaries.sample(5)"
   ]
  },
  {
   "cell_type": "code",
   "execution_count": null,
   "metadata": {},
   "outputs": [],
   "source": [
    "df_cmu_character_metadata = pd.read_csv('data/cmu/character.metadata.tsv', sep='\\t', header=None)\n",
    "df_cmu_character_metadata.columns = [\n",
    "    \"wikipedia_movie_id\", \"freebase_movie_id\", \"release_date\", \"character_name\",\n",
    "    \"actor_date_of_birth\", \"actor_gender\", \"actor_height_in_meters\", \"actor_ethnicity_freebase_id\",\n",
    "    \"actor_name\", \"actor_age_at_movie_release\", \"freebase_character_actor_map_id\",\n",
    "    \"freebase_character_id\", \"freebase_actor_id\"\n",
    "]"
   ]
  },
  {
   "cell_type": "code",
   "execution_count": null,
   "metadata": {},
   "outputs": [],
   "source": [
    "print(\"CMU Character Metadata shape before filtering: \", df_cmu_character_metadata.shape)"
   ]
  },
  {
   "cell_type": "code",
   "execution_count": null,
   "metadata": {},
   "outputs": [],
   "source": [
    "print(\"Number of movies with release date information: \", df_cmu_character_metadata[df_cmu_character_metadata['release_date'].notnull()].shape)\n",
    "df_cmu_character_metadata.dropna(subset=['release_date'], inplace=True)"
   ]
  },
  {
   "cell_type": "code",
   "execution_count": null,
   "metadata": {},
   "outputs": [],
   "source": [
    "df_cmu_character_metadata['release_year'] = df_cmu_character_metadata['release_date'].apply(extract_year)\n",
    "df_cmu_character_metadata.head()"
   ]
  },
  {
   "cell_type": "markdown",
   "metadata": {},
   "source": [
    "#### Tropes dataset\n",
    "\n",
    "Link to download the data: https://drive.google.com/file/d/1Duyz5ATlLHzwMidj15bWVnWHpdE4aRXn/view?usp=sharing"
   ]
  },
  {
   "cell_type": "code",
   "execution_count": null,
   "metadata": {},
   "outputs": [],
   "source": [
    "df_tropes = pd.read_csv('data/tropes/tropes.csv', index_col=0)\n",
    "df_tropes.columns = ['trope_id', 'trope', 'description']\n",
    "df_tropes.sample(5)"
   ]
  },
  {
   "cell_type": "code",
   "execution_count": null,
   "metadata": {},
   "outputs": [],
   "source": [
    "df_imdb_movie_tropes = pd.read_csv('data/tropes/film_imdb_match.csv', index_col=0)\n",
    "df_imdb_movie_tropes.columns = ['title', 'trope', 'example', 'clean_title', 'tconst', 'trope_id', 'title_id']\n",
    "df_imdb_movie_tropes = df_imdb_movie_tropes.drop(columns=['trope'])\n",
    "df_imdb_movie_tropes.head()"
   ]
  },
  {
   "cell_type": "code",
   "execution_count": null,
   "metadata": {},
   "outputs": [],
   "source": [
    "df_imdb_movie_tropes = df_imdb_movie_tropes.merge(df_tropes, how='inner', left_on='trope_id', right_on='trope_id')\n",
    "df_imdb_movie_tropes = df_imdb_movie_tropes[['tconst', 'title_id', 'clean_title', 'trope_id', 'trope', 'description', 'example']]\n",
    "df_imdb_movie_tropes.rename(columns={'tconst': 'imdb_id'}, inplace=True)\n",
    "df_imdb_movie_tropes.head()"
   ]
  },
  {
   "cell_type": "markdown",
   "metadata": {},
   "source": [
    "#### IMDB dataset\n",
    "\n",
    "Link to download the data: https://developer.imdb.com/non-commercial-datasets/, download the title.basics.tsv.gz file"
   ]
  },
  {
   "cell_type": "code",
   "execution_count": null,
   "metadata": {},
   "outputs": [],
   "source": [
    "df_imdb = pd.read_csv('data/imdb/title.basics.tsv', sep='\\t')\n",
    "df_imdb.sample(5)"
   ]
  },
  {
   "cell_type": "markdown",
   "metadata": {},
   "source": [
    "#### TMDB dataset\n",
    "\n",
    "Link to download the data: https://www.kaggle.com/datasets/asaniczka/tmdb-movies-dataset-2023-930k-movies?resource=download"
   ]
  },
  {
   "cell_type": "code",
   "execution_count": null,
   "metadata": {},
   "outputs": [],
   "source": [
    "df_tmdb = pd.read_csv('data/tmdb/TMDB_movie_dataset_v11.csv')\n",
    "df_tmdb.columns"
   ]
  },
  {
   "cell_type": "code",
   "execution_count": null,
   "metadata": {},
   "outputs": [],
   "source": [
    "df_tmdb.head()"
   ]
  },
  {
   "cell_type": "code",
   "execution_count": null,
   "metadata": {},
   "outputs": [],
   "source": [
    "df_tmdb['release_year'] = df_tmdb['release_date'].apply(extract_year)\n",
    "df_tmdb.head()"
   ]
  },
  {
   "cell_type": "code",
   "execution_count": null,
   "metadata": {},
   "outputs": [],
   "source": [
    "# Check tmdb dataset shape before filtering\n",
    "df_tmdb.shape"
   ]
  },
  {
   "cell_type": "code",
   "execution_count": null,
   "metadata": {},
   "outputs": [],
   "source": [
    "# Clean tmdb dataset before merging it with the cmu dataset\n",
    "\n",
    "# Filter released movies\n",
    "df_tmdb = df_tmdb[df_tmdb['status'] == 'Released']\n",
    "print(\"Number of released movies in tmdb dataset: \", df_tmdb.shape)"
   ]
  },
  {
   "cell_type": "code",
   "execution_count": null,
   "metadata": {},
   "outputs": [],
   "source": [
    "# Drop movies with missing release date\n",
    "df_tmdb.dropna(subset=['release_date'], inplace=True)\n",
    "print(\"Number of movies with release date information: \", df_tmdb.shape)"
   ]
  },
  {
   "cell_type": "markdown",
   "metadata": {},
   "source": [
    "##### Merge IMDB and Tropes datasets"
   ]
  },
  {
   "cell_type": "code",
   "execution_count": null,
   "metadata": {},
   "outputs": [],
   "source": [
    "# tropes with imdb ids matched\n",
    "df_imdb_movie_tropes.head()"
   ]
  },
  {
   "cell_type": "code",
   "execution_count": null,
   "metadata": {},
   "outputs": [],
   "source": [
    "# merge imdb titles basics information with tropes\n",
    "df_movie_tropes = pd.merge(df_imdb_movie_tropes, df_imdb, how='inner', left_on='imdb_id', right_on='tconst')"
   ]
  },
  {
   "cell_type": "code",
   "execution_count": null,
   "metadata": {},
   "outputs": [],
   "source": [
    "print(\"-------\" * 10)\n",
    "print(f\"imdb shape: {df_imdb.shape}\")\n",
    "print(f\"movie tropes imdb shape: {df_imdb_movie_tropes.shape}\")\n",
    "print(f\"movie tropes merged with imdb dataset shape: {df_movie_tropes.shape}\")\n",
    "print(\"-------\" * 10)\n",
    "\n",
    "df_movie_tropes.head()"
   ]
  },
  {
   "cell_type": "code",
   "execution_count": null,
   "metadata": {},
   "outputs": [],
   "source": [
    "df_movie_tropes.to_csv('data/movie_tropes.csv', index=False)"
   ]
  },
  {
   "cell_type": "markdown",
   "metadata": {},
   "source": [
    "#### Merge CMU and TMDB datasets"
   ]
  },
  {
   "cell_type": "code",
   "execution_count": null,
   "metadata": {},
   "outputs": [],
   "source": [
    "df_cmu_movie_metadata.columns"
   ]
  },
  {
   "cell_type": "code",
   "execution_count": null,
   "metadata": {},
   "outputs": [],
   "source": [
    "df_tmdb.columns"
   ]
  },
  {
   "cell_type": "markdown",
   "metadata": {},
   "source": [
    "Merging the CMU and TMDB datasets by movie name and release year"
   ]
  },
  {
   "cell_type": "code",
   "execution_count": null,
   "metadata": {},
   "outputs": [],
   "source": [
    "# merge cmu movie metadata with tmdb dataset to fill in missing information such as revenue which has a lot of missing values\n",
    "df_cmu_movie_metadata_selected = df_cmu_movie_metadata[['wikipedia_movie_id', 'freebase_movie_id', 'name', 'release_year']]\n",
    "df_cmu_tmdb = pd.merge(\n",
    "    df_tmdb,\n",
    "    df_cmu_movie_metadata_selected,\n",
    "    how='inner',\n",
    "    left_on=['title','release_year'],\n",
    "    right_on=['name', 'release_year']\n",
    ")\n",
    "\n",
    "print(\"-------\" * 10)\n",
    "print(f\"CMU Movie Summary Corpus shape: {df_cmu_movie_metadata_selected.shape}\")\n",
    "print(f\"TMDB shape: {df_tmdb.shape}\")\n",
    "print(f\"CMU TMDB merged dataframe shape: {df_cmu_tmdb.shape}\")\n",
    "print(\"-------\" * 10)\n",
    "\n",
    "df_cmu_tmdb.head()"
   ]
  },
  {
   "cell_type": "markdown",
   "metadata": {},
   "source": [
    "Before saving the data, inspect that column names, and non-null values are correct"
   ]
  },
  {
   "cell_type": "code",
   "execution_count": null,
   "metadata": {},
   "outputs": [],
   "source": [
    "df_cmu_tmdb.columns"
   ]
  },
  {
   "cell_type": "code",
   "execution_count": null,
   "metadata": {},
   "outputs": [],
   "source": [
    "df_cmu_tmdb.info()"
   ]
  },
  {
   "cell_type": "code",
   "execution_count": null,
   "metadata": {},
   "outputs": [],
   "source": [
    "# Remove movies with missing imdb because we need it for the tropes analysis\n",
    "df_cmu_tmdb.dropna(subset=['imdb_id'], inplace=True)\n",
    "df_cmu_tmdb.info()"
   ]
  },
  {
   "cell_type": "code",
   "execution_count": null,
   "metadata": {},
   "outputs": [],
   "source": [
    "df_cmu_tmdb.to_csv('data/cmu_tmdb.csv', index=False)"
   ]
  },
  {
   "cell_type": "markdown",
   "metadata": {},
   "source": [
    "##### Merge CMU character, CMU movie and IMDB name.basics adatasets"
   ]
  },
  {
   "cell_type": "code",
   "execution_count": null,
   "metadata": {},
   "outputs": [],
   "source": [
    "df_imdb_name_basics =  pd.read_csv('data/imdb/name.basics.tsv', sep='\\t', header=None)\n",
    "df_imdb_name_basics.columns = ['nconst', 'primary_name', 'birth_year', 'death_year', 'primary_profession', 'known_for_titles']\n",
    "df_imdb_name_basics.sample(5)"
   ]
  },
  {
   "cell_type": "code",
   "execution_count": null,
   "metadata": {},
   "outputs": [],
   "source": [
    "print(df_cmu_character_metadata.columns)\n",
    "print(df_cmu_movie_metadata.columns)\n",
    "\n",
    "# Merge character and movie metadata on movie id\n",
    "df_cmu_movie_character = pd.merge(df_cmu_character_metadata, df_cmu_movie_metadata, on=['wikipedia_movie_id', 'freebase_movie_id', 'release_year'], how='inner')\n",
    "\n",
    "# Merge the result with name_basics on actor id\n",
    "df_cmu_imdb_name_basics = pd.merge(df_cmu_movie_character, df_imdb_name_basics, left_on='freebase_actor_id', right_on='nconst', how='left')\n",
    "\n",
    "df_cmu_imdb_name_basics.sample(5)"
   ]
  },
  {
   "cell_type": "code",
   "execution_count": null,
   "metadata": {},
   "outputs": [],
   "source": [
    "df_cmu_imdb_name_basics.to_csv('data/cmu_tmdb_actor.csv', index=False)"
   ]
  },
  {
   "cell_type": "markdown",
   "metadata": {},
   "source": [
    "## Exploratory Data Analysis"
   ]
  },
  {
   "cell_type": "code",
   "execution_count": null,
   "metadata": {},
   "outputs": [],
   "source": []
  },
  {
   "cell_type": "markdown",
   "metadata": {},
   "source": [
    "## Research questions"
   ]
  },
  {
   "cell_type": "markdown",
   "metadata": {},
   "source": [
    "### 1. What metrics (e.g., low ratings, limited number of ratings, revenue vs budget) best indicate movie failure?"
   ]
  },
  {
   "cell_type": "code",
   "execution_count": null,
   "metadata": {},
   "outputs": [],
   "source": []
  },
  {
   "cell_type": "markdown",
   "metadata": {},
   "source": [
    "### 2. How do actor demographics and lack of diversity impact audience disengagement and contribute to box office underperformance?"
   ]
  },
  {
   "cell_type": "code",
   "execution_count": null,
   "metadata": {},
   "outputs": [],
   "source": []
  },
  {
   "cell_type": "markdown",
   "metadata": {},
   "source": [
    "### 3. What role do director-actor collaborations play in a movie’s failure, and are there specific patterns in these partnerships that correlate with unsuccessful films?"
   ]
  },
  {
   "cell_type": "code",
   "execution_count": null,
   "metadata": {},
   "outputs": [],
   "source": []
  },
  {
   "cell_type": "markdown",
   "metadata": {},
   "source": [
    "### 4. Is thematic consistency in director filmographies a predictor of failure/success?"
   ]
  },
  {
   "cell_type": "code",
   "execution_count": null,
   "metadata": {},
   "outputs": [],
   "source": []
  },
  {
   "cell_type": "markdown",
   "metadata": {},
   "source": [
    "### 5. How do overused or poorly executed character tropes contribute to a movie’s box office failure?"
   ]
  },
  {
   "cell_type": "code",
   "execution_count": null,
   "metadata": {},
   "outputs": [],
   "source": []
  },
  {
   "cell_type": "markdown",
   "metadata": {},
   "source": [
    "### 6. How does genre choice influence a movie’s failure, particularly in different cultural contexts?"
   ]
  },
  {
   "cell_type": "code",
   "execution_count": null,
   "metadata": {},
   "outputs": [],
   "source": []
  },
  {
   "cell_type": "markdown",
   "metadata": {},
   "source": [
    "### 7. How does poor release timing (e.g., season, holiday periods) affect a movie's likelihood of failing?"
   ]
  },
  {
   "cell_type": "code",
   "execution_count": null,
   "metadata": {},
   "outputs": [],
   "source": []
  },
  {
   "cell_type": "markdown",
   "metadata": {},
   "source": [
    "### 8. How has the thematic content of movie plots evolved, and what themes have historically failed to resonate with audiences?"
   ]
  },
  {
   "cell_type": "code",
   "execution_count": null,
   "metadata": {},
   "outputs": [],
   "source": []
  },
  {
   "cell_type": "markdown",
   "metadata": {},
   "source": [
    "### 9. How does portraying controversial social issues or outdated themes affect a movie’s acceptance and potential failure across demographics?\n"
   ]
  },
  {
   "cell_type": "code",
   "execution_count": null,
   "metadata": {},
   "outputs": [],
   "source": []
  }
 ],
 "metadata": {
  "kernelspec": {
   "display_name": "ada",
   "language": "python",
   "name": "python3"
  },
  "language_info": {
   "codemirror_mode": {
    "name": "ipython",
    "version": 3
   },
   "file_extension": ".py",
   "mimetype": "text/x-python",
   "name": "python",
   "nbconvert_exporter": "python",
   "pygments_lexer": "ipython3",
   "version": "3.11.10"
  }
 },
 "nbformat": 4,
 "nbformat_minor": 2
}
