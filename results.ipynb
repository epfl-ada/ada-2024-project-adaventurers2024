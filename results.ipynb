{
 "cells": [
  {
   "cell_type": "markdown",
   "metadata": {},
   "source": [
    "# Milestone 2: Project proposal and initial analysis\n",
    "\n",
    "<div style=\"border: 2px solid #4CAF50; border-radius: 10px; padding: 15px; background-color: #E8F5E9; color: #333;\">\n",
    "    <strong>Project:</strong> Decoding Box-Office Bombs 💣\n",
    "    <br>\n",
    "    <strong>Team:</strong> ADAdventurers2024\n",
    "</div>\n",
    "\n",
    "To replicate our dataset, please download the data indicated in the [README](https://github.com/epfl-ada/ada-2024-project-adaventurers2024/blob/main/README.md) file. Then, navigate to the `scripts` folder and run the following script:\n",
    "\n",
    "```cmd\n",
    "python preprocess_data.py\n",
    "```\n",
    "\n",
    "This script will generate five files in the data folder:\n",
    "\n",
    "- `cmu_tmdb.csv`: A merged dataset from CMU and TMDB, containing movie information such as revenue, budget, and other details.\n",
    "- `movie_tropes.csv`: Tropes associated with each movie in the IMDb dataset, which serves as an intermediary file for merging tropes with the CMU dataset.\n",
    "- `cmu_tropes.csv`: Tropes associated with each movie in the CMU dataset.\n",
    "- `movie_actors.csv`: Actors linked to each movie in the CMU dataset.\n",
    "- `movie_directors_actors.csv`: Directors and actors linked to each movie in the IMDb dataset.\n",
    "\n",
    "You can now proceed with exploratory data analysis and initial assessments.\n",
    "\n",
    "------"
   ]
  },
  {
   "cell_type": "markdown",
   "metadata": {},
   "source": [
    "## Exploratory data analysis"
   ]
  },
  {
   "cell_type": "code",
   "execution_count": null,
   "metadata": {},
   "outputs": [],
   "source": [
    "import pandas as pd\n",
    "import numpy as np\n",
    "import seaborn as sns\n",
    "import matplotlib.pyplot as plt"
   ]
  },
  {
   "cell_type": "code",
   "execution_count": null,
   "metadata": {},
   "outputs": [],
   "source": [
    "DATA_PATH = 'data'"
   ]
  },
  {
   "cell_type": "markdown",
   "metadata": {},
   "source": [
    "#### CMU revenue and other metrics"
   ]
  },
  {
   "cell_type": "code",
   "execution_count": null,
   "metadata": {},
   "outputs": [],
   "source": [
    "df_cmu_tmdb = pd.read_csv(f'{DATA_PATH}/cmu_tmdb.csv')\n",
    "df_cmu_tmdb.head()"
   ]
  },
  {
   "cell_type": "code",
   "execution_count": null,
   "metadata": {},
   "outputs": [],
   "source": [
    "df_cmu_tmdb.info()"
   ]
  },
  {
   "cell_type": "markdown",
   "metadata": {},
   "source": [
    "#### CMU cast and crew"
   ]
  },
  {
   "cell_type": "code",
   "execution_count": null,
   "metadata": {},
   "outputs": [],
   "source": [
    "df_movie_actors = pd.read_csv(f'{DATA_PATH}/movie_actors.csv')\n",
    "df_movie_actors.head()"
   ]
  },
  {
   "cell_type": "code",
   "execution_count": null,
   "metadata": {},
   "outputs": [],
   "source": [
    "df_movie_actors.info()"
   ]
  },
  {
   "cell_type": "markdown",
   "metadata": {},
   "source": [
    "#### CMU tropes"
   ]
  },
  {
   "cell_type": "code",
   "execution_count": null,
   "metadata": {},
   "outputs": [],
   "source": [
    "df_cmu_tropes = pd.read_csv(f\"{DATA_PATH}/cmu_tropes.csv\")\n",
    "df_cmu_tropes.head()"
   ]
  },
  {
   "cell_type": "code",
   "execution_count": null,
   "metadata": {},
   "outputs": [],
   "source": [
    "df_cmu_tropes.info()"
   ]
  },
  {
   "cell_type": "markdown",
   "metadata": {},
   "source": [
    "--------"
   ]
  },
  {
   "cell_type": "markdown",
   "metadata": {},
   "source": [
    "## Research questions"
   ]
  },
  {
   "cell_type": "code",
   "execution_count": null,
   "metadata": {},
   "outputs": [],
   "source": [
    "import pandas as pd\n",
    "import numpy as np\n",
    "import seaborn as sns\n",
    "import matplotlib.pyplot as plt\n",
    "import ast\n",
    "import warnings\n",
    "warnings.filterwarnings(\"ignore\")\n",
    "\n",
    "# Set visualization style\n",
    "%matplotlib inline\n",
    "sns.set(style='whitegrid', palette='muted', font_scale=1.2)"
   ]
  },
  {
   "cell_type": "markdown",
   "metadata": {
    "vscode": {
     "languageId": "html"
    }
   },
   "source": [
    "<div style=\"border: 2px solid #4CAF50; border-radius: 10px; padding: 15px; background-color: #E8F5E9; color: #333;\">\n",
    "    <strong>📊 Metrics & Performance\n",
    "</strong> \n",
    "</div>\n"
   ]
  },
  {
   "cell_type": "markdown",
   "metadata": {},
   "source": [
    "#### 1. What metrics (e.g., low ratings, limited number of ratings, revenue vs budget) best indicate movie failure?\n"
   ]
  },
  {
   "cell_type": "code",
   "execution_count": null,
   "metadata": {},
   "outputs": [],
   "source": [
    "# 1. Initialize \n",
    "\n",
    "# Load the dataset\n",
    "df = pd.read_csv('data/cmu_tmdb.csv')\n",
    "\n",
    "# 2. Process the dataset\n",
    "\n",
    "# Check 0 vote_average, revenue, and budget\n",
    "print(f\"Number of 0 values in each column: {(df[['vote_average', 'revenue', 'budget']] == 0).sum()}\")\n",
    "print(f\"Number of missing values in each column: {df[['vote_average', 'revenue', 'budget']].isnull().sum()}\")\n",
    "\n",
    "# remove rows if one of vote_average, revenue, and budget is 0\n",
    "df = df[(df[['vote_average', 'revenue', 'budget']] != 0).all(axis=1)]\n",
    "df.reset_index(drop=True, inplace=True)\n",
    "\n",
    "# Calculate profit\n",
    "df['profit'] = df['revenue'] - df['budget']\n",
    "# Calculate the ratio of revenue to budget\n",
    "df['revenue_to_budget'] = df['revenue'] / df['budget']\n",
    "\n",
    "# Logscale the revenue and profit columns\n",
    "df['log_revenue'] = np.log1p(df['revenue'])\n",
    "df['log_profit'] = np.log1p(df['profit'])\n",
    "df['log_revenue_to_budget'] = np.log1p(df['revenue_to_budget'])\n",
    "\n",
    "# 3. Analysze\n",
    "\n",
    "# 3.1 Initial statistical summary\n",
    "print(df[['vote_average', 'vote_count', 'revenue', 'profit']].describe())\n",
    "\n",
    "# 3.2 Distribution plots\n",
    "variables = ['vote_average', 'log_revenue', 'log_profit', 'log_revenue_to_budget']\n",
    "for var in variables:\n",
    "    plt.figure(figsize=(10, 6))\n",
    "    sns.histplot(df[var], bins=20, kde=True)\n",
    "    plt.title(f'Distribution of {var.capitalize()}')\n",
    "    plt.xlabel(var.capitalize())\n",
    "    plt.ylabel('Frequency')\n",
    "    plt.show()\n",
    "\n",
    "# 3.3 Scatter plot: Vote Average vs. Vote Count\n",
    "plt.figure(figsize=(10, 6))\n",
    "sns.scatterplot(x='vote_count', y='vote_average', data=df)\n",
    "plt.title('Vote Average vs. Vote Count')\n",
    "plt.xlabel('Vote Count')\n",
    "plt.ylabel('Vote Average')\n",
    "plt.show()\n",
    "\n",
    "# 3.4 Scatter plot: Revenue vs. Budget\n",
    "plt.figure(figsize=(10, 6))\n",
    "sns.scatterplot(x='budget', y='revenue', data=df)\n",
    "plt.title('Revenue vs. Budget')\n",
    "plt.xlabel('Budget')\n",
    "plt.ylabel('Revenue')\n",
    "plt.show()\n",
    "\n",
    "# 3.5 Scatter plot: Profit vs. Budget\n",
    "plt.figure(figsize=(10, 6))\n",
    "sns.scatterplot(x='budget', y='profit', data=df)\n",
    "plt.title('Profit vs. Budget')\n",
    "plt.xlabel('Budget')\n",
    "plt.ylabel('Profit')\n",
    "plt.show()\n",
    "\n",
    "# 3.6 Scatter plot: Average Rating vs. Revenue\n",
    "plt.figure(figsize=(10, 6))\n",
    "sns.scatterplot(x='vote_average', y='revenue', data=df, alpha=0.7)\n",
    "plt.title('Average Rating vs. Revenue')\n",
    "plt.xlabel('Average Rating')\n",
    "plt.ylabel('Revenue')\n",
    "plt.yscale('log')  # Optional: Apply log scale if revenue has a wide range\n",
    "plt.show()\n",
    "\n",
    "# 3.7 Correlation matrix\n",
    "corr_columns = ['vote_average', 'vote_count', 'revenue', 'budget', 'profit']\n",
    "corr_matrix = df[corr_columns].corr()\n",
    "plt.figure(figsize=(8, 6))\n",
    "sns.heatmap(corr_matrix, annot=True, cmap='coolwarm')\n",
    "plt.title('Correlation Matrix')\n",
    "plt.show()"
   ]
  },
  {
   "cell_type": "markdown",
   "metadata": {},
   "source": [
    "<div style=\"border: 2px solid #4CAF50; border-radius: 10px; padding: 15px; background-color: #E8F5E9; color: #333;\">\n",
    "    <strong>👥 Cast & Crew Analysis</strong> \n",
    "</div>\n"
   ]
  },
  {
   "cell_type": "markdown",
   "metadata": {},
   "source": [
    "#### 2. How do actor demographics and lack of diversity impact audience disengagement and contribute to box office underperformance?"
   ]
  },
  {
   "cell_type": "code",
   "execution_count": null,
   "metadata": {},
   "outputs": [],
   "source": [
    "# 1. Load the dataset\n",
    "df_movie_actors = pd.read_csv('./data/movie_actors.csv')\n",
    "\n",
    "# Display the first few rows\n",
    "print(\"First few rows of the dataset:\")\n",
    "display(df_movie_actors.head())\n",
    "\n",
    "# 2. Data cleaning\n",
    "\n",
    "# 2.1 Remove duplicates\n",
    "num_duplicates = df_movie_actors.duplicated().sum()\n",
    "print(f\"\\nNumber of duplicate rows: {num_duplicates}\")\n",
    "\n",
    "# Remove duplicates\n",
    "df_movie_actors.drop_duplicates(inplace=True)\n",
    "\n",
    "# 2.2 Handle missing values\n",
    "print(\"\\nMissing values per column:\")\n",
    "missing_values = df_movie_actors.isnull().sum()\n",
    "print(missing_values)\n",
    "\n",
    "# Drop rows with missing critical data\n",
    "df_movie_actors.dropna(subset=['actor_gender', 'actor_age_at_movie_release', 'revenue', 'average_rating', 'num_votes'], inplace=True)\n",
    "\n",
    "# Reset index after dropping rows\n",
    "df_movie_actors.reset_index(drop=True, inplace=True)\n",
    "\n",
    "# 3. Ethnicity mapping\n",
    "\n",
    "# Map 'actor_ethnicity_freebase_id' to ethnicity names\n",
    "ethnicity_mapping_df = pd.read_csv('./data/wikidata_ethnicities.csv')  # Ensure this file exists\n",
    "# Create mapping dictionary\n",
    "ethnicity_mapping = pd.Series(ethnicity_mapping_df['itemLabel'].values, index=ethnicity_mapping_df['freebase_id']).to_dict()\n",
    "# Map ethnicity IDs to names\n",
    "df_movie_actors['actor_ethnicity'] = df_movie_actors['actor_ethnicity_freebase_id'].map(ethnicity_mapping)\n",
    "\n",
    "# Check for missing ethnicity mappings\n",
    "missing_ethnicities = df_movie_actors[df_movie_actors['actor_ethnicity'].isnull()]['actor_ethnicity_freebase_id'].unique()\n",
    "print(\"\\nMissing ethnicity mappings:\", missing_ethnicities)\n",
    "\n",
    "# 4. Data exploration\n",
    "\n",
    "# 4.1 Overview of actor demographics\n",
    "# Gender distribution\n",
    "gender_counts = df_movie_actors['actor_gender'].value_counts()\n",
    "print(\"\\nGender distribution of actors:\")\n",
    "print(gender_counts)\n",
    "\n",
    "# Plot gender distribution\n",
    "plt.figure(figsize=(6, 4))\n",
    "sns.countplot(x='actor_gender', data=df_movie_actors)\n",
    "plt.title('Actor Gender Distribution')\n",
    "plt.xlabel('Gender')\n",
    "plt.ylabel('Count')\n",
    "plt.show()\n",
    "\n",
    "# 4.2 Age distribution of actors\n",
    "# Histogram of actor ages at movie release\n",
    "plt.figure(figsize=(8, 6))\n",
    "sns.histplot(df_movie_actors['actor_age_at_movie_release'], bins=30, kde=True)\n",
    "plt.title('Age Distribution of Actors at Movie Release')\n",
    "plt.xlim(0, 100)\n",
    "plt.xlabel('Age')\n",
    "plt.ylabel('Number of Actors')\n",
    "plt.show()\n",
    "\n",
    "# 4.3 Ethnicity diversity\n",
    "# Count unique ethnicities\n",
    "num_ethnicities = df_movie_actors['actor_ethnicity'].nunique()\n",
    "print(f\"\\nNumber of unique ethnicities: {num_ethnicities}\")\n",
    "\n",
    "# Display counts\n",
    "ethnicity_counts = df_movie_actors['actor_ethnicity'].value_counts()\n",
    "print(\"\\nEthnicity distribution of actors:\")\n",
    "print(ethnicity_counts.head())\n",
    "# Plot ethnicity distribution (top 10)\n",
    "plt.figure(figsize=(12, 6))\n",
    "sns.countplot(y='actor_ethnicity', data=df_movie_actors, order=ethnicity_counts.index[:10])\n",
    "plt.title('Top 10 Actor Ethnicities')\n",
    "plt.xlabel('Count')\n",
    "plt.ylabel('Ethnicity')\n",
    "plt.show()\n",
    "\n",
    "# 5. Assessing diversity per movie\n",
    "\n",
    "# Group data by movie\n",
    "grouped = df_movie_actors.groupby('movie_name')\n",
    "\n",
    "# 5.1 Compute diversity metrics\n",
    "def compute_diversity_metrics(group):\n",
    "    num_actors = group['actor_name'].nunique()\n",
    "    num_male = (group['actor_gender'] == 'M').sum()\n",
    "    num_female = (group['actor_gender'] == 'F').sum()\n",
    "    gender_diversity = num_female / num_actors if num_actors else np.nan\n",
    "    num_ethnicities = group['actor_ethnicity'].nunique()\n",
    "    age_std = group['actor_age_at_movie_release'].std()\n",
    "    revenue = group['revenue'].mean()\n",
    "    average_rating = group['average_rating'].mean()\n",
    "    num_votes = group['num_votes'].sum()\n",
    "    return pd.Series({\n",
    "        'num_actors': num_actors,\n",
    "        'num_male': num_male,\n",
    "        'num_female': num_female,\n",
    "        'gender_diversity': gender_diversity,\n",
    "        'num_ethnicities': num_ethnicities,\n",
    "        'age_std': age_std,\n",
    "        'revenue': revenue,\n",
    "        'average_rating': average_rating,\n",
    "        'num_votes': num_votes\n",
    "    })\n",
    "\n",
    "# Apply the function to each movie group\n",
    "movie_metrics = grouped.apply(compute_diversity_metrics).reset_index()\n",
    "\n",
    "# Display the metrics\n",
    "print(\"\\nDiversity metrics for movies:\")\n",
    "display(movie_metrics.head())\n",
    "\n",
    "# 6. Analyzing the impact on ratings and revenue\n",
    "\n",
    "# 6.1 Correlation Analysis\n",
    "# Select relevant columns for correlation\n",
    "corr_columns = ['gender_diversity', 'num_ethnicities', 'age_std', 'revenue', 'average_rating']\n",
    "corr_matrix = movie_metrics[corr_columns].corr()\n",
    "\n",
    "# Display the correlation matrix\n",
    "print(\"\\nCorrelation Matrix:\")\n",
    "print(corr_matrix)\n",
    "\n",
    "# 6.2 Visualize correlations\n",
    "# Heatmap of the correlation matrix\n",
    "plt.figure(figsize=(10, 8))\n",
    "sns.heatmap(corr_matrix, annot=True, cmap='coolwarm')\n",
    "plt.title('Correlation Matrix Heatmap')\n",
    "plt.show()\n",
    "\n",
    "# 6.3 Scatter plots\n",
    "\n",
    "# 6.3.1 Gender Diversity vs. Revenue\n",
    "plt.figure(figsize=(10, 6))\n",
    "sns.scatterplot(x='gender_diversity', y='revenue', data=movie_metrics)\n",
    "plt.title('Gender Diversity vs. Revenue')\n",
    "plt.xlabel('Gender Diversity (Proportion of Female Actors)')\n",
    "plt.ylabel('Revenue')\n",
    "plt.show()\n",
    "\n",
    "# 6.3.2 Gender Diversity vs. Average Rating\n",
    "plt.figure(figsize=(10, 6))\n",
    "sns.scatterplot(x='gender_diversity', y='average_rating', data=movie_metrics)\n",
    "plt.title('Gender Diversity vs. Average Rating')\n",
    "plt.xlabel('Gender Diversity (Proportion of Female Actors)')\n",
    "plt.ylabel('Average Rating')\n",
    "plt.show()\n",
    "\n",
    "# 6.3.3 Ethnic Diversity vs. Revenue\n",
    "plt.figure(figsize=(10, 6))\n",
    "sns.scatterplot(x='num_ethnicities', y='revenue', data=movie_metrics)\n",
    "plt.title('Ethnic Diversity vs. Revenue')\n",
    "plt.xlabel('Number of Unique Ethnicities')\n",
    "plt.ylabel('Revenue')\n",
    "plt.show()\n",
    "\n",
    "# 6.3.4 Ethnic Diversity vs. Average Rating\n",
    "plt.figure(figsize=(10, 6))\n",
    "sns.scatterplot(x='num_ethnicities', y='average_rating', data=movie_metrics)\n",
    "plt.title('Ethnic Diversity vs. Average Rating')\n",
    "plt.xlabel('Number of Unique Ethnicities')\n",
    "plt.ylabel('Average Rating')\n",
    "plt.show()\n",
    "\n",
    "# 6.3.5 Age Diversity vs. Revenue\n",
    "plt.figure(figsize=(10, 6))\n",
    "sns.scatterplot(x='age_std', y='revenue', data=movie_metrics)\n",
    "plt.title('Age Diversity (Std Dev) vs. Revenue')\n",
    "plt.xlabel('Age Standard Deviation')\n",
    "plt.ylabel('Revenue')\n",
    "plt.show()\n",
    "\n",
    "# 6.3.6 Age Diversity vs. Average Rating\n",
    "plt.figure(figsize=(10, 6))\n",
    "sns.scatterplot(x='age_std', y='average_rating', data=movie_metrics)\n",
    "plt.title('Age Diversity (Std Dev) vs. Average Rating')\n",
    "plt.xlabel('Age Standard Deviation')\n",
    "plt.ylabel('Average Rating')\n",
    "plt.show()"
   ]
  },
  {
   "cell_type": "markdown",
   "metadata": {},
   "source": [
    "#### 3. Is thematic consistency in director filmographies a predictor of movie failure?"
   ]
  },
  {
   "cell_type": "markdown",
   "metadata": {},
   "source": [
    "- Now that information about directors has been harvested, the next phase consists in investigating the correlation between genre participation proportion. This will help determine whether successful direction correlates with specific genre patterns."
   ]
  },
  {
   "cell_type": "markdown",
   "metadata": {
    "vscode": {
     "languageId": "html"
    }
   },
   "source": [
    "<div style=\"border: 2px solid #4CAF50; border-radius: 10px; padding: 15px; background-color: #E8F5E9; color: #333;\">\n",
    "    <strong>🎬 Genre & Market Factors</strong> \n",
    "</div>"
   ]
  },
  {
   "cell_type": "markdown",
   "metadata": {},
   "source": [
    "#### 4. How does genre choice influence a movie's failure, particularly in different cultural contexts?\n",
    "   \n",
    "We employed several analytical approaches to understand genre impact on movie failure. \n",
    "\n",
    "- First, we used violin plots with symmetric log scaling to visualize profit distribution across genres, capturing both the central tendency and spread of financial performance. \n",
    "- To understand cultural reception, we analyzed the relationship between ratings and popularity (measured by vote count) using scatter plots with logarithmic scaling for vote counts. \n",
    "- We tracked genre performance over time using 5-year moving averages to identify long-term trends in audience reception. \n",
    "- Finally, we calculated and compared genre-specific success and failure rates to identify which genres carry the highest risk of significant financial loss."
   ]
  },
  {
   "cell_type": "code",
   "execution_count": null,
   "metadata": {},
   "outputs": [],
   "source": [
    "from src.scripts.genre_analysis import *\n",
    "from src.utils.visualization_utils import *\n",
    "\n",
    "# Setup\n",
    "setup_visualization()\n",
    "df, df_genres = prepare_data('data/cmu_tmdb.csv')\n",
    "unique_genres = sorted(df_genres['genres'].unique())\n",
    "genre_colors = create_genre_colors(unique_genres)\n",
    "\n",
    "# Basic Analysis\n",
    "plot_genre_distributions(df_genres, genre_colors)\n",
    "\n",
    "# Performance Analysis\n",
    "plot_genre_performance(df_genres, genre_colors)\n",
    "\n",
    "# Temporal Analysis\n",
    "analyze_temporal_trends(df_genres, genre_colors, unique_genres)\n",
    "\n",
    "# ROI Analysis\n",
    "df, df_genres = analyze_roi(df, df_genres, genre_colors)\n",
    "\n",
    "# Budget Analysis\n",
    "budget_stats = analyze_budget_categories(df)\n",
    "\n",
    "# Success/Failure Rate Analysis\n",
    "performance_stats = analyze_success_failure_rates(df_genres, genre_colors, unique_genres)\n",
    "\n",
    "# Summary Statistics\n",
    "summary_stats = get_summary_statistics(df_genres)"
   ]
  },
  {
   "cell_type": "markdown",
   "metadata": {},
   "source": [
    "#### 5. How does poor release timing (e.g., season, holiday periods) affect a movie's likelihood of failing?\n",
    "\n",
    "- To investigate how release timing affects movie failure, we analyzed the distribution of profits and ratings across different temporal categories using violin plots. \n",
    "- We compared failure rates across seasons and months to identify particularly risky release periods. \n",
    "- To account for industry evolution, we examined the temporal trends of success and failure rates alongside movie release volume using a dual-axis visualization combining line graphs for rates and bar charts for release counts. \n",
    "\n",
    "This allowed us to identify historical patterns in optimal release timing while controlling for changes in industry output volume."
   ]
  },
  {
   "cell_type": "code",
   "execution_count": null,
   "metadata": {},
   "outputs": [],
   "source": [
    "from src.scripts.timing_analysis import *\n",
    "\n",
    "# Seasonal Analysis\n",
    "seasonal_stats = plot_seasonal_distributions(df)\n",
    "\n",
    "# Monthly Analysis\n",
    "analyze_monthly_performance(df)\n",
    "\n",
    "# Monthly ROI Analysis\n",
    "monthly_perf_df = analyze_monthly_roi(df)\n",
    "\n",
    "# Monthly Success Rate Analysis\n",
    "plot_monthly_success_rates(monthly_perf_df)\n",
    "\n",
    "# Monthly Statistics\n",
    "monthly_stats = analyze_monthly_statistics(df, monthly_perf_df)\n",
    "\n",
    "# Yearly Analysis\n",
    "yearly_performance = analyze_temporal_trends(df)"
   ]
  },
  {
   "cell_type": "markdown",
   "metadata": {},
   "source": [
    "<div style=\"border: 2px solid #4CAF50; border-radius: 10px; padding: 15px; background-color: #E8F5E9; color: #333;\">\n",
    "    <strong>📖 Narrative & Thematic Elements</strong> \n",
    "</div>"
   ]
  },
  {
   "cell_type": "markdown",
   "metadata": {},
   "source": [
    "A trope is a commonly recurring store-telling device in creative works. In film, tropes can be anything from narrative patterns (like the \"last-minute rescue\") to character archetypes (like the \"mad scientist\"), or even specific plot devices (like \"time-traveling mishaps\"). While tropes aren't inherently good or bad, their execution and context largely determine their effectiveness in storytelling.\n",
    "\n",
    "This analysis examines tropes that appear disproportionately often in poorly-rated films."
   ]
  },
  {
   "cell_type": "markdown",
   "metadata": {},
   "source": [
    "#### 6. Which tropes consistently lead to negative reception by genre?"
   ]
  },
  {
   "cell_type": "code",
   "execution_count": null,
   "metadata": {},
   "outputs": [],
   "source": [
    "for movie_genre in ['Horror', 'Adventure', 'Comedy']:\n",
    "    vote_threshold = 6\n",
    "\n",
    "    df_genre_tropes = df_cmu_tropes[df_cmu_tropes['genres_y'].str.contains(movie_genre)]\n",
    "    df_genre_tropes = df_genre_tropes[df_genre_tropes['vote_count'] > 100]\n",
    "\n",
    "    print(f'There are {len(df_genre_tropes.id.unique())} {movie_genre.lower()} films in the dataset')\n",
    "\n",
    "    df_low_rated_tropes = df_genre_tropes[df_genre_tropes['vote_average'] <= vote_threshold]\n",
    "    df_high_rated_tropes = df_genre_tropes[df_genre_tropes['vote_average'] > vote_threshold]\n",
    "\n",
    "    print(f'Films with low ratings: {len(df_low_rated_tropes.id.unique())}')\n",
    "    print(f'Films with high ratings: {len(df_high_rated_tropes.id.unique())}')\n",
    "\n",
    "    low_rated_tropes = df_low_rated_tropes.trope.value_counts()\n",
    "    high_rated_tropes = df_high_rated_tropes.trope.value_counts()\n",
    "\n",
    "    low_rated_dict = low_rated_tropes.to_dict()\n",
    "    high_rated_dict = high_rated_tropes.to_dict()\n",
    "\n",
    "    trope_ratios = {}\n",
    "    for trope in low_rated_dict:\n",
    "        low_count = low_rated_dict[trope]\n",
    "        high_count = high_rated_dict.get(trope, 0)\n",
    "        \n",
    "        if low_count >= 5:\n",
    "            ratio = low_count / (high_count + 1)\n",
    "            trope_ratios[trope] = ratio\n",
    "\n",
    "    sorted_tropes = sorted(trope_ratios.items(), key=lambda x: x[1], reverse=True)\n",
    "\n",
    "    plt.figure(figsize=(10, 6))\n",
    "    sns.barplot(x=[x[1] for x in sorted_tropes[:10]], y=[x[0] for x in sorted_tropes[:10]], palette='viridis')\n",
    "    plt.title(f'Top 10 tropes more common in low-rated {movie_genre.lower()} films')\n",
    "    plt.xlabel('Ratio low:high rated')\n",
    "    plt.ylabel('Tropes')\n",
    "    plt.show()"
   ]
  },
  {
   "cell_type": "markdown",
   "metadata": {},
   "source": [
    "The plot shows the top 10 narrative tropes that appear disproportionately more often in low-rated films compared to high-rated ones. The y-axis lists the tropes, while the x-axis shows the ratio of appearance in low-rated vs. high-rated films. We analyze for this initial results only 3 genres: horror, adventure and comedy.\n",
    "\n",
    "Key observations for horror films:\n",
    "- \"BadSanta\" and \"JackassGenie\" tropes have the highest ratios (approximately 9-10x), suggesting these supernatural antagonist concepts rarely work well in horror films\n",
    "- Mid-tier ratios (6-7x) include concepts like \"AttackOfTheTownFestival\" and \"SelfPlagiarism\", indicating that festival-horror settings and derivative storytelling tend to correlate with lower ratings\n",
    "\n",
    "Key observations for adventure films:\n",
    "- \"NotScreenedForCritics\" tops the list (about 7.5x ratio), appearing in both comedy and adventure genres' low-rated films, suggesting it's a reliable indicator of lower quality across genres\n",
    "- Superhero-related tropes (\"Superman\" and \"TeenSuperspy\" at ~6x and 5x respectively) indicate that certain superhero elements may be challenging to execute well in adventure films\n",
    "\n",
    "Key observation for comedy films:\n",
    "- \"ContinuityReboot\" has the highest ratio (around 9.5x), suggesting that comedy reboots of existing properties tend to be challenging to execute well\n",
    "- Meta-industry tropes like \"NotScreenedForCritics\" and \"SlasherFilm\" (both ~5.5x) hint that comedies avoiding critical review or parodying horror often receive poor ratings\n",
    "- Plot devices like \"FakinMacGuffin\" and \"LastRequest\" (both ~8x) appear to be overused in lower quality comedies\n",
    "- Character-based tropes such as \"TeenSuperspy\" and \"LiteralSplitPersonality\" (both ~5x) show that certain character archetypes may be harder to execute successfully"
   ]
  },
  {
   "cell_type": "markdown",
   "metadata": {},
   "source": [
    "#### 7. What recurring plot patterns appear most frequently in critically panned films?"
   ]
  },
  {
   "cell_type": "code",
   "execution_count": null,
   "metadata": {},
   "outputs": [],
   "source": [
    "# Setting the style of the plots\n",
    "sns.set_style(\"whitegrid\", {'axes.grid': False})\n",
    "plt.style.use('seaborn-v0_8-pastel')\n",
    "\n",
    "# Load the data\n",
    "df_cmu_tmdb = pd.read_csv('data/cmu_tmdb.csv')\n",
    "df_movie_tropes = pd.read_csv('data/movie_tropes.csv')\n",
    "df_movie_tropes = df_movie_tropes[['imdb_id', 'trope_id', 'trope', 'description']]\n",
    "\n",
    "# Filtering data with 0 votes\n",
    "df_cmu_tmdb = df_cmu_tmdb[(df_cmu_tmdb[['vote_average', 'vote_count', 'revenue']] != 0).all(axis=1)]\n",
    "df_cmu_tmdb.reset_index(drop=True, inplace=True)\n",
    "print(\"Number of movies before filtering: \", df_cmu_tmdb.shape[0])\n",
    "\n",
    "# Filter movies with an average score lower than the threshold\n",
    "THRESHOLD = 6\n",
    "df_cmu_lr_movies = df_cmu_tmdb[df_cmu_tmdb['vote_average'] <= THRESHOLD]\n",
    "df_cmu_lr_movies.reset_index(drop=True, inplace=True)\n",
    "print(\"Number of movies with low rating: \", df_cmu_lr_movies.shape[0])\n",
    "\n",
    "# Merge selected movies with tropes\n",
    "df_cmu_tropes = pd.merge(df_cmu_lr_movies, df_movie_tropes, on='imdb_id', how='inner')\n",
    "df_cmu_tropes.drop_duplicates(inplace=True)\n",
    "\n",
    "print(\"Vote average statistics:\")\n",
    "print(df_cmu_tropes['vote_average'].describe())\n",
    "\n",
    "# Get the top k tropes for low rated movies\n",
    "K = 30\n",
    "df_top_tropes_lr_movies = df_cmu_tropes['trope'].value_counts().reset_index().head(K)\n",
    "df_top_tropes_lr_movies.columns = ['trope', 'count']\n",
    "\n",
    "plt.figure(figsize=(8, 6))\n",
    "sns.barplot(data=df_top_tropes_lr_movies, x='count', y='trope', hue='trope', dodge=False)\n",
    "plt.title(F'Top {K} tropes in movies with a vote average of {THRESHOLD} or lower')\n",
    "plt.ylabel('Tropes')\n",
    "plt.xlabel('Number of movies')\n",
    "plt.show()"
   ]
  }
 ],
 "metadata": {
  "kernelspec": {
   "display_name": "base",
   "language": "python",
   "name": "python3"
  },
  "language_info": {
   "codemirror_mode": {
    "name": "ipython",
    "version": 3
   },
   "file_extension": ".py",
   "mimetype": "text/x-python",
   "name": "python",
   "nbconvert_exporter": "python",
   "pygments_lexer": "ipython3",
   "version": "3.12.2"
  }
 },
 "nbformat": 4,
 "nbformat_minor": 2
}
