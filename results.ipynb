{
 "cells": [
  {
   "cell_type": "markdown",
   "metadata": {},
   "source": [
    "# Milestone 3\n",
    "\n",
    "<div style=\"border: 2px solid #4CAF50; border-radius: 10px; padding: 15px; background-color: #E8F5E9; color: #333;\">\n",
    "    <strong>Project:</strong> Decoding Box-Office Bombs 💣\n",
    "    <br>\n",
    "    <strong>Team:</strong> ADAdventurers2024\n",
    "</div>\n",
    "\n",
    "To replicate our dataset, please download the data indicated in the [README](https://github.com/epfl-ada/ada-2024-project-adaventurers2024/blob/main/README.md) file. Then, navigate to the `scripts` folder and run the following script:\n",
    "\n",
    "```cmd\n",
    "python preprocess_data.py\n",
    "```\n",
    "\n",
    "This script will generate five files in the data folder:\n",
    "\n",
    "- `cmu_tmdb.csv`: A merged dataset from CMU and TMDB, containing movie information such as revenue, budget, and other details.\n",
    "- `movie_tropes.csv`: Tropes associated with each movie in the IMDb dataset, which serves as an intermediary file for merging tropes with the CMU dataset.\n",
    "- `cmu_tropes.csv`: Tropes associated with each movie in the CMU dataset.\n",
    "- `movie_actors.csv`: Actors linked to each movie in the CMU dataset.\n",
    "- `movie_directors_actors.csv`: Directors and actors linked to each movie in the IMDb dataset.\n",
    "\n",
    "You can now proceed with exploratory data analysis and initial assessments.\n",
    "\n",
    "------"
   ]
  },
  {
   "cell_type": "markdown",
   "metadata": {},
   "source": [
    "## Exploratory data analysis"
   ]
  },
  {
   "cell_type": "code",
   "execution_count": 1,
   "metadata": {},
   "outputs": [],
   "source": [
    "import pandas as pd\n",
    "import numpy as np\n",
    "import seaborn as sns\n",
    "import matplotlib.pyplot as plt\n",
    "\n",
    "from src.utils.visualization_utils import *\n",
    "\n",
    "# Setup\n",
    "setup_visualization()"
   ]
  },
  {
   "cell_type": "code",
   "execution_count": 2,
   "metadata": {},
   "outputs": [],
   "source": [
    "DATA_PATH = \"data\""
   ]
  },
  {
   "cell_type": "markdown",
   "metadata": {},
   "source": [
    "#### CMU revenue and other metrics"
   ]
  },
  {
   "cell_type": "code",
   "execution_count": null,
   "metadata": {},
   "outputs": [],
   "source": [
    "df_cmu_tmdb = pd.read_csv(f\"{DATA_PATH}/cmu_tmdb.csv\")\n",
    "df_cmu_tmdb.head()"
   ]
  },
  {
   "cell_type": "code",
   "execution_count": null,
   "metadata": {},
   "outputs": [],
   "source": [
    "df_cmu_tmdb.info()"
   ]
  },
  {
   "cell_type": "markdown",
   "metadata": {},
   "source": [
    "#### CMU cast and crew"
   ]
  },
  {
   "cell_type": "code",
   "execution_count": null,
   "metadata": {},
   "outputs": [],
   "source": [
    "df_movie_actors = pd.read_csv(f\"{DATA_PATH}/movie_actors.csv\")\n",
    "df_movie_actors.head()"
   ]
  },
  {
   "cell_type": "code",
   "execution_count": null,
   "metadata": {},
   "outputs": [],
   "source": [
    "df_movie_actors.info()"
   ]
  },
  {
   "cell_type": "code",
   "execution_count": null,
   "metadata": {},
   "outputs": [],
   "source": [
    "df_movie_directors_actors = pd.read_csv(f\"{DATA_PATH}/movie_directors_actors.csv\")\n",
    "df_movie_directors_actors.head()"
   ]
  },
  {
   "cell_type": "code",
   "execution_count": null,
   "metadata": {},
   "outputs": [],
   "source": [
    "df_movie_directors_actors.info()"
   ]
  },
  {
   "cell_type": "markdown",
   "metadata": {},
   "source": [
    "#### CMU tropes"
   ]
  },
  {
   "cell_type": "code",
   "execution_count": null,
   "metadata": {},
   "outputs": [],
   "source": [
    "df_cmu_tropes = pd.read_csv(f\"{DATA_PATH}/cmu_tropes.csv\")\n",
    "df_cmu_tropes.head()"
   ]
  },
  {
   "cell_type": "code",
   "execution_count": null,
   "metadata": {},
   "outputs": [],
   "source": [
    "df_cmu_tropes.info()"
   ]
  },
  {
   "cell_type": "markdown",
   "metadata": {},
   "source": [
    "--------"
   ]
  },
  {
   "cell_type": "markdown",
   "metadata": {},
   "source": [
    "## Research questions"
   ]
  },
  {
   "cell_type": "code",
   "execution_count": 5,
   "metadata": {},
   "outputs": [],
   "source": [
    "import pandas as pd\n",
    "import numpy as np\n",
    "import seaborn as sns\n",
    "import matplotlib.pyplot as plt\n",
    "import ast\n",
    "import warnings\n",
    "\n",
    "warnings.filterwarnings(\"ignore\")\n",
    "\n",
    "# Set visualization style\n",
    "%matplotlib inline\n",
    "sns.set(style=\"whitegrid\", palette=\"muted\", font_scale=1.2)"
   ]
  },
  {
   "cell_type": "markdown",
   "metadata": {
    "vscode": {
     "languageId": "html"
    }
   },
   "source": [
    "<div style=\"border: 2px solid #4CAF50; border-radius: 10px; padding: 15px; background-color: #E8F5E9; color: #333;\">\n",
    "    <strong>📊 Metrics & Performance\n",
    "</strong> \n",
    "</div>\n"
   ]
  },
  {
   "cell_type": "markdown",
   "metadata": {},
   "source": [
    "### 1. What metrics (e.g., low ratings, limited number of ratings, revenue vs budget) best indicate movie failure?\n"
   ]
  },
  {
   "cell_type": "code",
   "execution_count": null,
   "metadata": {},
   "outputs": [],
   "source": [
    "## Code\n",
    "from src.utils.metric_analysis import *\n",
    "\n",
    "metric_analysis(\"data/cmu_tmdb.csv\")"
   ]
  },
  {
   "cell_type": "markdown",
   "metadata": {},
   "source": [
    "#### 1.1 What we have done for the initial analysis\n",
    "\n",
    "- We examined distributions of key metrics (vote average, revenue, profit, and revenue-to-budget ratio) using histograms with kernel density estimation.\n",
    "- We visualized relationships between critical variables through scatter plots, particularly focusing on vote average vs. count and financial metrics vs. budget.\n",
    "- We calculated and visualized a correlation matrix to quantify relationships between `vote_average`, `vote_count`, `revenue`, `budget`, and `profit`.\n",
    "- We preprocessed the data by removing zero-value entries and calculating derived metrics such as profit and revenue-to-budget ratios.\n",
    "- We applied logarithmic transformations to handle the high skewness in financial data distributions.\n",
    "\n",
    "#### 1.2 Key observations\n",
    "\n",
    "##### Distribution Analysis\n",
    "\n",
    "1. Vote Average:\n",
    "\n",
    "   - Normal distribution centered around 6.0-6.5\n",
    "   - Range primarily between 4-8\n",
    "   - Very few movies rated below 4 or above 8\n",
    "\n",
    "2. Revenue and Profit (Log Scale):\n",
    "\n",
    "   - Both show right-skewed distributions\n",
    "   - Revenue peaks around 15-17 on log scale\n",
    "   - Profit shows similar pattern but with more spread\n",
    "   - Small cluster of extremely high performers\n",
    "\n",
    "3. Revenue-to-Budget Ratio (Log Scale):\n",
    "   - Heavily right-skewed\n",
    "   - Most movies cluster between 0-2 (log scale)\n",
    "   - Long tail indicating few movies with exceptional ROI\n",
    "\n",
    "##### Relationship Analysis\n",
    "\n",
    "1. Vote Average vs. Vote Count:\n",
    "\n",
    "   - Positive correlation (0.38)\n",
    "   - Higher vote counts tend toward 6-8 rating range\n",
    "   - More rating variance with fewer votes\n",
    "   - Ratings stabilize with increased votes\n",
    "\n",
    "2. Revenue/Profit vs. Budget:\n",
    "\n",
    "   - Strong positive correlation (revenue-budget: 0.72)\n",
    "   - Higher budgets show wider profit variance\n",
    "   - Some high-budget outliers with exceptional returns\n",
    "   - Most movies cluster in lower budget range with moderate returns\n",
    "\n",
    "3. Rating vs. Revenue:\n",
    "   - Weak positive correlation (0.20)\n",
    "   - Higher-rated movies tend to have slightly better revenue\n",
    "   - Wide revenue spread regardless of rating\n",
    "   - Log-scale reveals clearer pattern at higher ratings\n",
    "\n",
    "##### Correlation Matrix Insights\n",
    "\n",
    "1. Strongest Correlations:\n",
    "\n",
    "   - Revenue-Profit: 0.98 (very strong)\n",
    "   - Revenue-Vote Count: 0.77 (strong)\n",
    "   - Profit-Vote Count: 0.75 (strong)\n",
    "\n",
    "2. Weak Correlations:\n",
    "   - Vote Average-Budget: 0.028 (negligible)\n",
    "   - Vote Average-Revenue: 0.20 (weak)\n",
    "   - Vote Average-Profit: 0.23 (weak)\n",
    "\n",
    "These patterns suggest that while ratings have some influence on success, volume of audience engagement (vote count) and budget size are stronger predictors of financial performance. The extremely high correlation between revenue and profit suggests that cost management might be less critical than revenue generation for overall success.\n"
   ]
  },
  {
   "cell_type": "markdown",
   "metadata": {},
   "source": [
    "<div style=\"border: 2px solid #4CAF50; border-radius: 10px; padding: 15px; background-color: #E8F5E9; color: #333;\">\n",
    "    <strong>👥 Cast & Crew Analysis</strong> \n",
    "</div>\n"
   ]
  },
  {
   "cell_type": "markdown",
   "metadata": {},
   "source": [
    "### 2. How do actor demographics and lack of diversity impact audience disengagement and contribute to box office underperformance?"
   ]
  },
  {
   "cell_type": "code",
   "execution_count": null,
   "metadata": {},
   "outputs": [],
   "source": [
    "## code\n",
    "from src.utils.actor_analysis import *\n",
    "\n",
    "actor_analysis(\"data/movie_actors.csv\", \"data/wikidata_ethnicities.csv\")"
   ]
  },
  {
   "cell_type": "markdown",
   "metadata": {},
   "source": [
    "#### 2.1 What we have done for the initial analysis\n",
    "\n",
    "##### Data Cleaning and Preparation\n",
    "To begin the analysis, we removed duplicate entries. We dropped rows with missing values in critical columns, such as actor gender, age at movie release, revenue, average rating, and the number of votes, as these features are essential for the study. We mapped actor ethnicity IDs to corresponding names using `wikidata_ethnicities.csv`.\n",
    "\n",
    "##### Exploration of Actor Demographics\n",
    "We created a bar plot to visualize the distribution of male and female actors. We examined the age distribution of actors using a histogram to highlight age-based cast patterns. Additionally, we analyzed ethnicity diversity by counting unique ethnicities represented in the dataset and visualized the top 10 most represented ethnicities.\n",
    "\n",
    "##### Computation of Diversity Metrics per Movie\n",
    "We quantified gender diversity as the proportion of female actors in a movie’s cast; ethnic diversity as the number of unique ethnicities in the cast; and age diversity as the standard deviation of actors' ages. Additionally, we calculated movie failure indicators, such as revenue and ratings, for each film to assess the link between diversity and movie outcomes.\n",
    "\n",
    "##### Correlation and Impact Analysis\n",
    "We constructed a correlation matrix to explore relationships between diversity metrics and movie failure indicators, including gender diversity, ethnic diversity, age diversity, revenue, and ratings. We visualized these correlations with a heatmap, highlighting the strength and direction of each relationship. We also created scatter plots to examine how gender, ethnic, and age diversity influenced revenue and ratings.\n",
    "\n",
    "#### 2.2 Key observations\n",
    "\n",
    "##### Gender Diversity\n",
    "From the correlation matrix, we observed that gender diversity has a weak and slightly negative correlation with revenue (-0.073) and average rating (-0.048). Scatter plots indicated that movies with a less than 5% or higher than 50% proportion of female actors tended to perform slightly worse in revenue and receive lower audience ratings.\n",
    "\n",
    "##### Ethnic Diversity\n",
    "We found that ethnic diversity has a moderate positive correlation with revenue (0.34), suggesting that movies with lower ethnic diversity tend to generate lower revenue. The scatter plot of ethnic diversity versus rating showed an upward trend, with movies featuring less ethnic diversity achieving lower ratings. The plot also suggests that low or high ethnic diversity (< 2 or > 9) is associated with lower revenue.\n",
    "\n",
    "##### Age Diversity\n",
    "From the correlation matrix, age diversity shows only weak positive correlations with revenue (0.14) and average rating (0.15), indicating age diversity showed limited influence on movie failure. Scatter plots revealed no strong correlation between age diversity and average rating, as movies with both high and low age diversity exhibited a wide range of ratings. In the plot of age diversity vs average rating, some movies with low or high actors' age deversity led to a lower revenue."
   ]
  },
  {
   "cell_type": "markdown",
   "metadata": {},
   "source": [
    "### 3. Is thematic consistency in director filmographies a predictor of movie failure?"
   ]
  },
  {
   "cell_type": "code",
   "execution_count": null,
   "metadata": {},
   "outputs": [],
   "source": [
    "## code\n",
    "from src.utils.director_analysis import *\n",
    "\n",
    "director_analysis(\"data/movie_directors_actors.csv\")"
   ]
  },
  {
   "cell_type": "markdown",
   "metadata": {},
   "source": [
    "#### 3.1 What we have done for the initial analysis\n",
    "\n",
    "##### Data Processing and Preparation\n",
    "We removed rows with missing or zero values in key columns to prevent skewed results or undefined calculations. Categorical data related to genres was encoded numerically to enable quantitative analysis. The number of unique genres associated with each director was counted and used as a key variable in the analysis.\n",
    "\n",
    "##### Scatter Plot Analysis\n",
    "Two scatter plots were created to explore the relationship between directors' genre diversity and two outcome variables: overall average revenue and overall average rating. The first plot displays the overall average revenue vs the number of genres of directors, while the second plot displays the overall average ratings vs the number of genres of directors. We aimed to determine whether a director’s genre diversity correlates with commercial failure (measured by revenue) or audience disapproval (measured by ratings).\n",
    "\n",
    "##### Ordinary Least Squares (OLS) Regression\n",
    "To quantify the relationships observed in the scatter plots, we conducted an OLS regression analysis with revenue and rating as dependent variables, and the number of genres of directors as the independent variable. This analysis was intended to provide statistical insight into whether an increase in genre diversity significantly predicts changes in revenue or ratings.\n",
    "\n",
    "#### 3.2 Key observations\n",
    "\n",
    "##### Average Revenue vs. Number of Genres \n",
    "This plot shows a dense cluster of directors with low revenue and fewer genres, suggesting that movies with limited genre diversity tend to have lower financial returns. While there are some high-revenue outliers, they are isolated cases and not representative of the overall trend. Directors with a very high number of genres (above 40) also tend to have low revenues, suggesting that excessive genre diversity may decrease a movie’s appeal.\n",
    "\n",
    "##### Average Rating vs. Number of Genres\n",
    "This plot reveals that directors with low genre diversity have ratings spread across the full range. However, as the number of genres increases, ratings stabilize around relatively high values (around 7), indicating that increasing genre diversity may contribute to consistent audience approval.\n",
    "\n",
    "##### OLS Regression\n",
    "The OLS regression results showed nan values across all metrics, including coefficients and test statistics, indicating potential issues like multicollinearity or sparse data, or suggesting that the relationship between directors' genre diversity and the outcome variables may not be linear. The lack of meaningful regression results implies that genre diversity alone may not be sufficient to predict movie failure."
   ]
  },
  {
   "cell_type": "markdown",
   "metadata": {
    "vscode": {
     "languageId": "html"
    }
   },
   "source": [
    "<div style=\"border: 2px solid #4CAF50; border-radius: 10px; padding: 15px; background-color: #E8F5E9; color: #333;\">\n",
    "    <strong>🎬 Genre & Market Factors</strong> \n",
    "</div>"
   ]
  },
  {
   "cell_type": "markdown",
   "metadata": {},
   "source": [
    "### 4. How does genre choice influence a movie's failure, particularly in different cultural contexts?"
   ]
  },
  {
   "cell_type": "code",
   "execution_count": null,
   "metadata": {},
   "outputs": [],
   "source": [
    "## code\n",
    "from src.utils.genre_analysis import *\n",
    "\n",
    "df, df_genres = prepare_data(\"data/cmu_tmdb.csv\")\n",
    "unique_genres = sorted(df_genres[\"genres\"].unique())\n",
    "genre_colors = create_genre_colors(unique_genres)\n",
    "\n",
    "# Basic Analysis\n",
    "plot_genre_distributions(df_genres, genre_colors)\n",
    "\n",
    "# Performance Analysis\n",
    "plot_genre_performance(df_genres, genre_colors)\n",
    "\n",
    "# Temporal Analysis\n",
    "analyze_temporal_trends(df_genres, genre_colors, unique_genres)\n",
    "\n",
    "# ROI Analysis\n",
    "df, df_genres = analyze_roi(df, df_genres, genre_colors)\n",
    "\n",
    "# Budget Analysis\n",
    "budget_stats = analyze_budget_categories(df)\n",
    "\n",
    "# Success/Failure Rate Analysis\n",
    "performance_stats = analyze_success_failure_rates(\n",
    "    df_genres, genre_colors, unique_genres\n",
    ")\n",
    "\n",
    "# Summary Statistics\n",
    "summary_stats = get_summary_statistics(df_genres)\n",
    "\n",
    "df = run_complete_interactive_analysis(\"data/cmu_tmdb.csv\")['df']"
   ]
  },
  {
   "cell_type": "markdown",
   "metadata": {},
   "source": [
    "#### 4.1 What we have done for the initial analysis\n",
    "\n",
    "We employed several analytical approaches to understand genre impact on movie failure. \n",
    "\n",
    "- First, we used violin plots with symmetric log scaling to visualize profit distribution across genres, capturing both the central tendency and spread of financial performance. \n",
    "- To understand cultural reception, we analyzed the relationship between ratings and popularity (measured by vote count) using scatter plots with logarithmic scaling for vote counts. \n",
    "- We tracked genre performance over time using 5-year moving averages to identify long-term trends in audience reception. \n",
    "- Finally, we calculated and compared genre-specific success and failure rates to identify which genres carry the highest risk of significant financial loss.\n",
    "\n",
    "\n",
    "#### 4.2 Key observations\n",
    "\n",
    "##### Financial Performance by Genre\n",
    "\n",
    "1. High-Profit Potential:\n",
    "\n",
    "- Action/Adventure/Fantasy lead in extreme profits (mean profits: 13-25M USD)\n",
    "- Documentary/TV Movies show lowest profits but highest ROI (9.03 and 7.13)\n",
    "- Horror shows strong ROI (5.69) with moderate investment\n",
    "- Drama (most common genre, 22,560 movies) shows modest profits (3.47M USD)\n",
    "\n",
    "2. Budget Impact:\n",
    "\n",
    "- Very low budget films: Highest ROI potential but highest volatility\n",
    "- High budget films: More consistent but lower returns\n",
    "- Clear inverse relationship between budget size and ROI potential\n",
    "\n",
    "##### Audience Reception\n",
    "\n",
    "1. Ratings:\n",
    "\n",
    "- Animation leads with highest average rating (6.01)\n",
    "- Family/War films follow with strong ratings\n",
    "- Western shows lowest ratings\n",
    "- Most genres maintain 5-7 rating range\n",
    "- Documentary shows most consistent ratings\n",
    "\n",
    "2. Popularity Patterns:\n",
    "\n",
    "- Popular movies (high vote counts) cluster around 6-7 ratings\n",
    "- Less popular movies show wider rating variation\n",
    "- Profitable movies typically have high vote counts\n",
    "- Genre impact on popularity is minimal\n",
    "\n",
    "##### Historical Trends\n",
    "\n",
    "- Ratings stabilized post-1960\n",
    "- High volatility in early years (pre-1940)\n",
    "- Modern convergence around 5-6 rating range\n",
    "- Genre distinctions decreased over time\n",
    "\n",
    "##### Risk Assessment\n",
    "\n",
    "1. Success Rates:\n",
    "\n",
    "- Adventure/Science Fiction/Fantasy: Highest success rates\n",
    "- Documentary/TV Movies: Extreme success/failure patterns\n",
    "- Horror: Good success rate with moderate risk\n",
    "\n",
    "2. Failure Rates:\n",
    "\n",
    "- Thriller/Science Fiction/Mystery: Highest failure rates\n",
    "- Action/Adventure: More moderate failure rates despite high budgets\n",
    "- Documentary: High risk but high potential return\n",
    "\n",
    "##### Key Takeaway\n",
    "\n",
    "Genre significantly impacts financial performance and risk levels. While Action/Adventure/Fantasy lead in absolute profits, smaller genres like Documentary and Horror show strong ROI potential. Ratings remain relatively consistent across genres, with Animation and Family films maintaining slight advantages. Budget size shows stronger correlation with returns than genre choice.\n"
   ]
  },
  {
   "cell_type": "markdown",
   "metadata": {},
   "source": [
    "### 5. How does poor release timing (e.g., season, holiday periods) affect a movie's likelihood of failing?"
   ]
  },
  {
   "cell_type": "code",
   "execution_count": null,
   "metadata": {},
   "outputs": [],
   "source": [
    "## code\n",
    "from src.utils.timing_analysis import *\n",
    "\n",
    "# Seasonal Analysis\n",
    "seasonal_stats = plot_seasonal_distributions(df)\n",
    "\n",
    "# Monthly Analysis\n",
    "analyze_monthly_performance(df)\n",
    "\n",
    "# Monthly ROI Analysis\n",
    "monthly_perf_df = analyze_monthly_roi(df)\n",
    "\n",
    "# Monthly Success Rate Analysis\n",
    "plot_monthly_success_rates(monthly_perf_df)\n",
    "\n",
    "# Monthly Statistics\n",
    "monthly_stats = analyze_monthly_statistics(df, monthly_perf_df)\n",
    "\n",
    "# Yearly Analysis\n",
    "yearly_performance = analyze_temporal_trends(df)\n",
    "\n",
    "run_interactive_timing_analysis(df)"
   ]
  },
  {
   "cell_type": "markdown",
   "metadata": {},
   "source": [
    "#### 5.1 What we have done for the initial analysis\n",
    "\n",
    "- To investigate how release timing affects movie failure, we analyzed the distribution of profits and ratings across different temporal categories using violin plots. \n",
    "- We compared failure rates across seasons and months to identify particularly risky release periods. \n",
    "- To account for industry evolution, we examined the temporal trends of success and failure rates alongside movie release volume using a dual-axis visualization combining line graphs for rates and bar charts for release counts. \n",
    "\n",
    "This allowed us to identify historical patterns in optimal release timing while controlling for changes in industry output volume.\n",
    "\n",
    "\n",
    "#### 5.2 Key observations\n",
    "\n",
    "##### Seasonal Patterns\n",
    "\n",
    "1. Profitability and ROI:\n",
    "\n",
    "   - Fall shows best overall performance (high ROI: 3.46, good profit distribution)\n",
    "   - Spring has highest mean profit (7.23M USD) and median ROI (1.16)\n",
    "   - Winter consistently underperforms (lowest profit: 2.56M USD, lowest ROI: 2.77)\n",
    "   - Summer shows moderate, stable performance\n",
    "\n",
    "2. Ratings and Volume:\n",
    "\n",
    "   - Ratings remain relatively consistent across seasons (range: 4.72-5.19)\n",
    "   - Winter/Fall have highest release volumes (~13,000 movies each)\n",
    "   - Spring/Summer have fewer releases (~11,500 movies each)\n",
    "\n",
    "##### Monthly Patterns\n",
    "\n",
    "1. Strong Months:\n",
    "\n",
    "   - June/July: Highest success rates (~8%), good ROI potential\n",
    "   - December: Strong performance (high success rate, good profit potential)\n",
    "   - Summer months generally show better profit concentration\n",
    "\n",
    "2. Weak Months:\n",
    "\n",
    "   - January: Lowest success rate (~2%), volatile ROI\n",
    "   - August/September: Highest failure rates (~3%)\n",
    "   - Early fall months show increased risk\n",
    "\n",
    "##### Historical Trends\n",
    "\n",
    "- Movie volume increased significantly since 1980s\n",
    "- Success/failure rates remained relatively stable until recent years\n",
    "- Post-2000 shows increased volatility\n",
    "- Possible data anomaly showing success spike near 2020\n",
    "\n",
    "##### Key Takeaway\n",
    "\n",
    "Best release windows appear to be summer months (June/July) and December, while January and early fall carry higher risks. Fall and Spring show strongest overall financial metrics, but Winter consistently underperforms across all measures.\n"
   ]
  },
  {
   "cell_type": "markdown",
   "metadata": {},
   "source": [
    "<div style=\"border: 2px solid #4CAF50; border-radius: 10px; padding: 15px; background-color: #E8F5E9; color: #333;\">\n",
    "    <strong>📖 Narrative & Thematic Elements</strong> \n",
    "</div>"
   ]
  },
  {
   "cell_type": "markdown",
   "metadata": {},
   "source": [
    "A trope is a commonly recurring store-telling device in creative works. In film, tropes can be anything from narrative patterns (like the \"last-minute rescue\") to character archetypes (like the \"mad scientist\"), or even specific plot devices (like \"time-traveling mishaps\"). While tropes aren't inherently good or bad, their execution and context largely determine their effectiveness in storytelling.\n",
    "\n",
    "This analysis examines tropes that appear disproportionately often in poorly-rated films. Our first step is identify the most common tropes in low-rated films, to then explore each genre individually, and finally compare the results across genres."
   ]
  },
  {
   "cell_type": "code",
   "execution_count": 6,
   "metadata": {},
   "outputs": [],
   "source": [
    "from src.utils.trope_analysis import *\n",
    "\n",
    "df_cmu_tropes = pd.read_csv(\"data/cmu_tropes.csv\")"
   ]
  },
  {
   "cell_type": "markdown",
   "metadata": {},
   "source": [
    "### 6. What recurring plot patterns appear most frequently in critically panned films?"
   ]
  },
  {
   "cell_type": "code",
   "execution_count": null,
   "metadata": {},
   "outputs": [],
   "source": [
    "rq6(df_cmu_tropes)"
   ]
  },
  {
   "cell_type": "markdown",
   "metadata": {},
   "source": [
    "#### 6.1. What we have done for the analysis\n",
    "\n",
    "To explore the relationship between narrative tropes and audience reception, we first established a rating threshold of 6.0 on a 10-point scale to distinguish between low and high-rated movies. Starting with low-rated films, we identified the 20 most common tropes and visualized their frequencies using a bar plot.\n",
    "\n",
    "#### 6.2. Key observations\n",
    "\n",
    "* The mean vote average for the dataset was 5.44, with a median of 5.6 after filtering out movies rated 6 or lower.\n",
    "* The top 20 most common tropes in low-rated films were identified, with \"ShotOut,\" \"HorrorFilms,\" \"FilmsOfThe1980s,\" \"BigBad,\" and \"LargeHam\" being the top 5, each appearing in over 80 films.\n",
    "\n",
    "Now, we will analyze the distribution of these tropes across different genres."
   ]
  },
  {
   "cell_type": "markdown",
   "metadata": {},
   "source": [
    "### 7. Which tropes consistently lead to negative reception by genre?"
   ]
  },
  {
   "cell_type": "markdown",
   "metadata": {},
   "source": [
    "#### 7.1. What we have done for the initial analysis\n",
    "\n",
    "We focused our initial analysis on three specific genres: Horror, Adventure, and Comedy. For each genre, we categorized films into low-rated (≤6.0) and high-rated (>6.0) groups and analyzed the tropes associated with each category. To highlight tropes that were disproportionately present in poorly received films, we calculated the ratio of trope occurrences in low-rated films to high-rated films. Finally, we visualized the top 10 tropes with the highest low-to-high rating ratios for each genre to identify patterns that might contribute to negative audience reception. The y-axis lists the tropes, while the x-axis shows the ratio of appearance in low-rated vs. high-rated films.\n",
    "\n",
    "#### 7.2. Key observations\n",
    "\n",
    "Key observations for horror films:\n",
    "\n",
    "* \"HotScientist\" has the highest ratio (about 7x), suggesting this character trope rarely works well in horror films\n",
    "* \"TookTheBadFilmSeriously\" and \"BadSanta\" (both around 5x) are the next highest ratios, indicating that earnest performances in poor films and evil Santa narratives tend to correlate with lower ratings\n",
    "\n",
    "Key observations for adventure films:\n",
    "\n",
    "* \"NotScreenedForCritics\" has the highest ratio (about 4x), suggesting films not shown to critics beforehand tend to be lower quality\n",
    "* Action-related tropes like \"ActionDressRip\" and \"DoesntLikeGuns\" appear frequently in lower-rated films, suggesting certain action elements may be harder to execute well\n",
    "\n",
    "Key observations for comedy films:\n",
    "\n",
    "* \"ContinuityReboot\" tops the list (around 8x), indicating that comedy reboots of existing properties tend to be particularly challenging to execute well\n",
    "* \"AHandfulForAnEye\" and \"NotScreenedForCritics\" (both around 6x) are also common in poorly-rated comedies\n",
    "* Horror-related tropes like \"SlasherFilm\" and \"SlasherMovie\" appear in poorly-rated comedies, suggesting horror-comedy crossovers may be difficult to execute successfully"
   ]
  },
  {
   "cell_type": "markdown",
   "metadata": {},
   "source": [
    "### 7. What plots are the most common in movies that fail?"
   ]
  },
  {
   "cell_type": "markdown",
   "metadata": {},
   "source": [
    "To understand which narrative elements might contribute to poor movie reception, we first analyzed individual tropes associated with the lowest average ratings. We then examined how these problematic tropes tend to appear together in films, identifying patterns in their co-occurrence and exploring potential combinations that might predict poor audience reception.\n",
    "\n",
    "The box plot displays the rating distributions for the ten tropes associated with the lowest average ratings in our dataset. Most tropes show average ratings between 4 and 6, with considerable variation as indicated by the long whiskers."
   ]
  },
  {
   "cell_type": "code",
   "execution_count": null,
   "metadata": {},
   "outputs": [],
   "source": [
    "rq7(df_cmu_tropes)"
   ]
  },
  {
   "cell_type": "markdown",
   "metadata": {},
   "source": [
    "### Cluster analysis\n",
    "\n",
    "To analyze the relationship between movies and their associated tropes, we developed a binary vector representation approach. Each movie in our dataset is represented by a sparse binary vector where the dimension equals the total number of unique tropes in our dataset. Within each vector, a value of 1 indicates the presence of a trope in the movie, while 0 indicates its absence.\n",
    "\n",
    "We applied the k-means clustering algorithm to our binary vector representations to identify groups of movies with similar trope patterns. We selected k=50 clusters as our target, hypothesizing that this number would provide meaningful groupings of movies based on their trope compositions. The underlying assumption is that movies sharing similar tropes are likely to have similar narrative structures, themes, or plot elements.\n",
    "The k-means algorithm iteratively assigns movies to the nearest cluster center and updates these centers based on the average of assigned movies until convergence. This process results in 50 distinct clusters of movies, where each cluster contains films that share similar patterns of trope usage."
   ]
  },
  {
   "cell_type": "code",
   "execution_count": null,
   "metadata": {},
   "outputs": [],
   "source": [
    "df_tropes = pd.read_csv(\"data/tropes/tropes.csv\", index_col=0)\n",
    "\n",
    "movie_tropes_data, clusters, movie_embeddings = cluster_movies(df_cmu_tropes, df_tropes, 50, len(df_tropes))\n",
    "\n",
    "df_cmu_tmdb_filtered = df_cmu_tmdb[df_cmu_tmdb[\"id\"].isin(movie_embeddings.keys())]\n",
    "df_cmu_tmdb_filtered = df_cmu_tmdb_filtered.drop_duplicates(subset=[\"id\"])\n",
    "df_cmu_tmdb_filtered[\"cluster\"] = clusters.labels_"
   ]
  },
  {
   "cell_type": "markdown",
   "metadata": {},
   "source": [
    "This next visualization presents a t-SNE reduction of our movie clusters into two dimensions, revealing how different movies relate to each other based on their trope patterns.\n",
    "While there is significant overlap between clusters in the dense central region, suggesting many movies share common trope patterns, we can also observe some distinct regions where certain clusters dominate. Some outlier points around the edges of the plot might represent movies with unique combinations of tropes."
   ]
  },
  {
   "cell_type": "code",
   "execution_count": null,
   "metadata": {},
   "outputs": [],
   "source": [
    "plot_movie_clusters(movie_tropes_data, clusters)"
   ]
  },
  {
   "cell_type": "markdown",
   "metadata": {},
   "source": [
    "To understand what trope combinations might lead to poor audience reception, we isolated the ten clusters with the lowest average ratings from our dataset. The t-SNE visualization of these clusters reveals a notable pattern: most poorly-rated movies concentrate in a dense cluster, with some outliers scattered across the periphery. This concentration suggests that many poorly-rated movies share similar trope combinations, potentially indicating specific narrative patterns that consistently fail.\n",
    "\n",
    "Unlike the full dataset visualization, which showed more uniform distribution, these worst-rated clusters display significant clumping. The presence of isolated points at the edges of the plot suggests that while most poorly-rated movies follow similar trope patterns, there are also some films that receive bad ratings despite having unique or unusual trope combinations. This insight could be valuable for filmmakers, as it highlights both common problematic trope patterns to avoid."
   ]
  },
  {
   "cell_type": "code",
   "execution_count": null,
   "metadata": {},
   "outputs": [],
   "source": [
    "plot_worst_clusters(df_cmu_tmdb_filtered, movie_tropes_data, clusters, 10)"
   ]
  },
  {
   "cell_type": "markdown",
   "metadata": {},
   "source": [
    "The bar chart reveals the most frequently occurring problematic trope combinations in our worst-rated movie clusters, with horror films dominating the top positions. The combination of \"HorrorFilms + FinalGirl + ShoutOut\" appears most frequently, followed by other horror-related combinations involving B-movies and slasher films. This suggests that certain horror movie formulas, particularly those that rely heavily on traditional tropes, tend to receive poor ratings.\n",
    "\n",
    "Beyond horror, we see recurring patterns in other genres: dirty cop narratives, recursive or self-referential storytelling (as shown by \"AlliterativeTitle + RecursiveCanon + RecursiveFiction\"), and psychological thrillers with specific social themes. The presence of \"BigBad + FilmsOfThe1980s + TheDragon\" suggests that dated villain archetypes from the 1980s may not do well with modern audiences. These combinations point to potential narrative fatigue, where audiences may be responding negatively to overly familiar or poorly executed trope patterns."
   ]
  },
  {
   "cell_type": "code",
   "execution_count": null,
   "metadata": {},
   "outputs": [],
   "source": [
    "worst_clusters_tropes = compute_worst_clusters_tropes(df_cmu_tmdb_filtered, df_cmu_tropes)\n",
    "plot_trope_combinations(worst_clusters_tropes)"
   ]
  },
  {
   "cell_type": "markdown",
   "metadata": {},
   "source": [
    "Finally, our network visualization reveals the connection between tropes in poorly-rated movies, with \"HorrorFilms\" emerging as the central node with the largest size, indicating its high frequency. The network shows strong connections between horror-related tropes, forming a dense cluster that includes \"SlasherFilm,\" \"BMovie,\" and \"SciFiHorror.\" This central cluster connects to more specific tropes like \"FinalGirl,\" \"DeathBySex,\" and \"TooDumbToLive,\" suggesting that these narrative elements frequently appear together in poorly-received films.\n",
    "\n",
    "The presence of \"FilmsOfThe1980s\" with connections to \"TheDragon\" and \"BigBad\" indicates a pattern of dated storytelling formulas, while the edges connecting various horror sub-genres suggest that movies combining multiple horror tropes tend to receive lower ratings. The thickness of the connecting lines reveals particularly strong co-occurrences between certain tropes, highlighting common but potentially problematic narrative combinations in these lower-rated films."
   ]
  },
  {
   "cell_type": "code",
   "execution_count": null,
   "metadata": {},
   "outputs": [],
   "source": [
    "plot_trope_network(worst_clusters_tropes)"
   ]
  },
  {
   "cell_type": "markdown",
   "metadata": {},
   "source": [
    "### 8. How have low-rated tropes evolved over time, and what trends can be observed in their average ratings across different periods?"
   ]
  },
  {
   "cell_type": "markdown",
   "metadata": {},
   "source": [
    "The time series plots reveal interesting patterns in how audience reception of different tropes has evolved from 1920 to present. Most tropes show average ratings fluctuating between 4 and 6, with notable volatility in earlier decades when fewer movies were released. \"ChekhovsGun\" shows the most stable and positive trend, with ratings gradually improving and stabilizing around 5.5 in recent decades, suggesting this narrative device has been refined over time.\n",
    "\n",
    "\"HorrorFilms\" and \"BMovie\" display consistent average ratings throughout their history, though with considerable variation, typically ranging between 4 and 5. Interestingly, \"FilmsOfThe1980s\" shows relatively stable ratings during its peak period in the 1980s, hovering around 5, but the few movies using this trope outside that era show more extreme variations in ratings."
   ]
  },
  {
   "cell_type": "code",
   "execution_count": null,
   "metadata": {},
   "outputs": [],
   "source": [
    "rq8(df_cmu_tropes)"
   ]
  }
 ],
 "metadata": {
  "kernelspec": {
   "display_name": "base",
   "language": "python",
   "name": "python3"
  },
  "language_info": {
   "codemirror_mode": {
    "name": "ipython",
    "version": 3
   },
   "file_extension": ".py",
   "mimetype": "text/x-python",
   "name": "python",
   "nbconvert_exporter": "python",
   "pygments_lexer": "ipython3",
   "version": "3.12.2"
  }
 },
 "nbformat": 4,
 "nbformat_minor": 2
}
