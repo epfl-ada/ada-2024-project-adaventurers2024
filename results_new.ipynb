{
 "cells": [
  {
   "cell_type": "markdown",
   "metadata": {},
   "source": [
    "# Milestone 2: Project proposal and initial analysis\n",
    "\n",
    "<div style=\"border: 2px solid #4CAF50; border-radius: 10px; padding: 15px; background-color: #E8F5E9; color: #333;\">\n",
    "    <strong>Project:</strong> Decoding Box-Office Bombs 💣\n",
    "    <br>\n",
    "    <strong>Team:</strong> ADAdventurers2024\n",
    "</div>\n",
    "\n",
    "To replicate our dataset, please download the data indicated in the [README](https://github.com/epfl-ada/ada-2024-project-adaventurers2024/blob/main/README.md) file. Then, navigate to the `scripts` folder and run the following script:\n",
    "\n",
    "```cmd\n",
    "python preprocess_data.py\n",
    "```\n",
    "\n",
    "This script will generate five files in the data folder:\n",
    "\n",
    "- `cmu_tmdb.csv`: A merged dataset from CMU and TMDB, containing movie information such as revenue, budget, and other details.\n",
    "- `movie_tropes.csv`: Tropes associated with each movie in the IMDb dataset, which serves as an intermediary file for merging tropes with the CMU dataset.\n",
    "- `cmu_tropes.csv`: Tropes associated with each movie in the CMU dataset.\n",
    "- `movie_actors.csv`: Actors linked to each movie in the CMU dataset.\n",
    "- `movie_directors_actors.csv`: Directors and actors linked to each movie in the IMDb dataset.\n",
    "\n",
    "You can now proceed with exploratory data analysis and initial assessments.\n",
    "\n",
    "------"
   ]
  },
  {
   "cell_type": "markdown",
   "metadata": {},
   "source": [
    "## Exploratory data analysis"
   ]
  },
  {
   "cell_type": "code",
   "execution_count": null,
   "metadata": {},
   "outputs": [],
   "source": [
    "import pandas as pd\n",
    "import numpy as np\n",
    "import seaborn as sns\n",
    "import matplotlib.pyplot as plt"
   ]
  },
  {
   "cell_type": "code",
   "execution_count": null,
   "metadata": {},
   "outputs": [],
   "source": [
    "DATA_PATH = \"data\""
   ]
  },
  {
   "cell_type": "markdown",
   "metadata": {},
   "source": [
    "#### CMU revenue and other metrics"
   ]
  },
  {
   "cell_type": "code",
   "execution_count": null,
   "metadata": {},
   "outputs": [],
   "source": [
    "df_cmu_tmdb = pd.read_csv(f\"{DATA_PATH}/cmu_tmdb.csv\")\n",
    "df_cmu_tmdb.head()"
   ]
  },
  {
   "cell_type": "code",
   "execution_count": null,
   "metadata": {},
   "outputs": [],
   "source": [
    "df_cmu_tmdb.info()"
   ]
  },
  {
   "cell_type": "markdown",
   "metadata": {},
   "source": [
    "#### CMU cast and crew"
   ]
  },
  {
   "cell_type": "code",
   "execution_count": null,
   "metadata": {},
   "outputs": [],
   "source": [
    "df_movie_actors = pd.read_csv(f\"{DATA_PATH}/movie_actors.csv\")\n",
    "df_movie_actors.head()"
   ]
  },
  {
   "cell_type": "code",
   "execution_count": null,
   "metadata": {},
   "outputs": [],
   "source": [
    "df_movie_actors.info()"
   ]
  },
  {
   "cell_type": "code",
   "execution_count": null,
   "metadata": {},
   "outputs": [],
   "source": [
    "df_movie_directors_actors = pd.read_csv(f\"{DATA_PATH}/movie_directors_actors.csv\")\n",
    "df_movie_directors_actors.head()"
   ]
  },
  {
   "cell_type": "code",
   "execution_count": null,
   "metadata": {},
   "outputs": [],
   "source": [
    "df_movie_directors_actors.info()"
   ]
  },
  {
   "cell_type": "markdown",
   "metadata": {},
   "source": [
    "#### CMU tropes"
   ]
  },
  {
   "cell_type": "code",
   "execution_count": null,
   "metadata": {},
   "outputs": [],
   "source": [
    "df_cmu_tropes = pd.read_csv(f\"{DATA_PATH}/cmu_tropes.csv\")\n",
    "df_cmu_tropes.head()"
   ]
  },
  {
   "cell_type": "code",
   "execution_count": null,
   "metadata": {},
   "outputs": [],
   "source": [
    "df_cmu_tropes.info()"
   ]
  },
  {
   "cell_type": "markdown",
   "metadata": {},
   "source": [
    "--------"
   ]
  },
  {
   "cell_type": "markdown",
   "metadata": {},
   "source": [
    "## Research questions"
   ]
  },
  {
   "cell_type": "code",
   "execution_count": null,
   "metadata": {},
   "outputs": [],
   "source": [
    "import pandas as pd\n",
    "import numpy as np\n",
    "import seaborn as sns\n",
    "import matplotlib.pyplot as plt\n",
    "import ast\n",
    "import warnings\n",
    "\n",
    "warnings.filterwarnings(\"ignore\")\n",
    "\n",
    "# Set visualization style\n",
    "%matplotlib inline\n",
    "sns.set(style=\"whitegrid\", palette=\"muted\", font_scale=1.2)"
   ]
  },
  {
   "cell_type": "markdown",
   "metadata": {
    "vscode": {
     "languageId": "html"
    }
   },
   "source": [
    "<div style=\"border: 2px solid #4CAF50; border-radius: 10px; padding: 15px; background-color: #E8F5E9; color: #333;\">\n",
    "    <strong>📊 Metrics & Performance\n",
    "</strong> \n",
    "</div>\n"
   ]
  },
  {
   "cell_type": "markdown",
   "metadata": {},
   "source": [
    "### 1. What metrics (e.g., low ratings, limited number of ratings, revenue vs budget) best indicate movie failure?\n"
   ]
  },
  {
   "cell_type": "code",
   "execution_count": null,
   "metadata": {},
   "outputs": [],
   "source": [
    "## Code\n",
    "from src.utils.metric_analysis import *\n",
    "\n",
    "metric_analysis(\"data/cmu_tmdb.csv\")"
   ]
  },
  {
   "cell_type": "markdown",
   "metadata": {},
   "source": [
    "#### 1.1 What we have done for the initial analysis\n",
    "\n",
    "\n",
    "#### 1.2 Key observations\n"
   ]
  },
  {
   "cell_type": "markdown",
   "metadata": {},
   "source": [
    "<div style=\"border: 2px solid #4CAF50; border-radius: 10px; padding: 15px; background-color: #E8F5E9; color: #333;\">\n",
    "    <strong>👥 Cast & Crew Analysis</strong> \n",
    "</div>\n"
   ]
  },
  {
   "cell_type": "markdown",
   "metadata": {},
   "source": [
    "### 2. How do actor demographics and lack of diversity impact audience disengagement and contribute to box office underperformance?"
   ]
  },
  {
   "cell_type": "code",
   "execution_count": null,
   "metadata": {},
   "outputs": [],
   "source": [
    "## code\n",
    "from src.utils.actor_analysis import *\n",
    "\n",
    "actor_analysis(\"data/movie_actors.csv\", \"data/wikidata_ethnicities.csv\")"
   ]
  },
  {
   "cell_type": "markdown",
   "metadata": {},
   "source": [
    "#### 2.1 What we have done for the initial analysis\n",
    "\n",
    "##### Data Cleaning and Preparation\n",
    "To begin the analysis, we removed duplicate entries. We dropped rows with missing values in critical columns, such as actor gender, age at movie release, revenue, average rating, and the number of votes, as these features are essential for the study. We mapped actor ethnicity IDs to corresponding names using `wikidata_ethnicities.csv`.\n",
    "\n",
    "##### Exploration of Actor Demographics\n",
    "We created a bar plot to visualize the distribution of male and female actors. We examined the age distribution of actors using a histogram to highlight age-based cast patterns. Additionally, we analyzed ethnicity diversity by counting unique ethnicities represented in the dataset and visualized the top 10 most represented ethnicities.\n",
    "\n",
    "##### Computation of Diversity Metrics per Movie\n",
    "We quantified gender diversity as the proportion of female actors in a movie’s cast; ethnic diversity as the number of unique ethnicities in the cast; and age diversity as the standard deviation of actors' ages. Additionally, we calculated movie success indicators, such as revenue and ratings, for each film to assess the link between diversity and movie outcomes.\n",
    "\n",
    "##### Correlation and Impact Analysis\n",
    "We constructed a correlation matrix to explore relationships between diversity metrics and movie success indicators, including gender diversity, ethnic diversity, age diversity, revenue, and ratings. We visualized these correlations with a heatmap, highlighting the strength and direction of each relationship. We also created scatter plots to examine how gender, ethnic, and age diversity influenced revenue and ratings.\n",
    "\n",
    "#### 2.2 Key observations\n",
    "\n",
    "##### Gender Diversity\n",
    "From the correlation matrix, we observed that gender diversity has a weak and slightly negative correlation with revenue (-0.073) and average rating (-0.048). Scatter plots indicated that movies with a 5%-50% proportion of female actors tended to perform slightly better in revenue and receive better audience ratings.\n",
    "\n",
    "##### Ethnic Diversity\n",
    "We found that ethnic diversity has a moderate positive correlation with revenue (0.34), suggesting that movies with more ethnic diversity tend to generate higher revenue. The scatter plot of ethnic diversity versus rating showed an upward trend, with movies featuring more ethnic diversity achieving better ratings. The plot also suggests that moderate ethnic diversity (3-7) is associated with higher revenue.\n",
    "\n",
    "##### Age Diversity\n",
    "From the correlation matrix, age diversity shows only weak positive correlations with revenue (0.14) and average rating (0.15), indicating age diversity showed limited influence on movie success. Scatter plots revealed no strong correlation between age diversity and average rating, as movies with both high and low age diversity exhibited a wide range of ratings. In the plot of age diversity vs average rating, some movies with moderate actors' age deversity achived a higher revenue."
   ]
  },
  {
   "cell_type": "markdown",
   "metadata": {},
   "source": [
    "### 3. Is thematic consistency in director filmographies a predictor of movie failure?"
   ]
  },
  {
   "cell_type": "code",
   "execution_count": null,
   "metadata": {},
   "outputs": [],
   "source": [
    "## code\n",
    "from src.utils.director_analysis import *\n",
    "\n",
    "director_analysis(\"data/movie_directors_actors.csv\")"
   ]
  },
  {
   "cell_type": "markdown",
   "metadata": {},
   "source": [
    "#### 3.1 What we have done for the initial analysis\n",
    "\n",
    "\n",
    "#### 3.2 Key observations"
   ]
  },
  {
   "cell_type": "markdown",
   "metadata": {
    "vscode": {
     "languageId": "html"
    }
   },
   "source": [
    "<div style=\"border: 2px solid #4CAF50; border-radius: 10px; padding: 15px; background-color: #E8F5E9; color: #333;\">\n",
    "    <strong>🎬 Genre & Market Factors</strong> \n",
    "</div>"
   ]
  },
  {
   "cell_type": "markdown",
   "metadata": {},
   "source": [
    "### 4. How does genre choice influence a movie's failure, particularly in different cultural contexts?"
   ]
  },
  {
   "cell_type": "code",
   "execution_count": null,
   "metadata": {},
   "outputs": [],
   "source": [
    "## code\n",
    "from src.utils.genre_analysis import *\n",
    "from src.utils.visualization_utils import *\n",
    "\n",
    "# Setup\n",
    "setup_visualization()\n",
    "df, df_genres = prepare_data(\"data/cmu_tmdb.csv\")\n",
    "unique_genres = sorted(df_genres[\"genres\"].unique())\n",
    "genre_colors = create_genre_colors(unique_genres)\n",
    "\n",
    "# Basic Analysis\n",
    "plot_genre_distributions(df_genres, genre_colors)\n",
    "\n",
    "# Performance Analysis\n",
    "plot_genre_performance(df_genres, genre_colors)\n",
    "\n",
    "# Temporal Analysis\n",
    "analyze_temporal_trends(df_genres, genre_colors, unique_genres)\n",
    "\n",
    "# ROI Analysis\n",
    "df, df_genres = analyze_roi(df, df_genres, genre_colors)\n",
    "\n",
    "# Budget Analysis\n",
    "budget_stats = analyze_budget_categories(df)\n",
    "\n",
    "# Success/Failure Rate Analysis\n",
    "performance_stats = analyze_success_failure_rates(\n",
    "    df_genres, genre_colors, unique_genres\n",
    ")\n",
    "\n",
    "# Summary Statistics\n",
    "summary_stats = get_summary_statistics(df_genres)"
   ]
  },
  {
   "cell_type": "markdown",
   "metadata": {},
   "source": [
    "#### 4.1 What we have done for the initial analysis\n",
    "\n",
    "We employed several analytical approaches to understand genre impact on movie failure. \n",
    "\n",
    "- First, we used violin plots with symmetric log scaling to visualize profit distribution across genres, capturing both the central tendency and spread of financial performance. \n",
    "- To understand cultural reception, we analyzed the relationship between ratings and popularity (measured by vote count) using scatter plots with logarithmic scaling for vote counts. \n",
    "- We tracked genre performance over time using 5-year moving averages to identify long-term trends in audience reception. \n",
    "- Finally, we calculated and compared genre-specific success and failure rates to identify which genres carry the highest risk of significant financial loss.\n",
    "\n",
    "\n",
    "#### 4.2 Key observations\n",
    "\n",
    "##### Financial Performance by Genre\n",
    "\n",
    "1. High-Profit Potential:\n",
    "\n",
    "- Action/Adventure/Fantasy lead in extreme profits (mean profits: 13-25M USD)\n",
    "- Documentary/TV Movies show lowest profits but highest ROI (9.03 and 7.13)\n",
    "- Horror shows strong ROI (5.69) with moderate investment\n",
    "- Drama (most common genre, 22,560 movies) shows modest profits (3.47M USD)\n",
    "\n",
    "2. Budget Impact:\n",
    "\n",
    "- Very low budget films: Highest ROI potential but highest volatility\n",
    "- High budget films: More consistent but lower returns\n",
    "- Clear inverse relationship between budget size and ROI potential\n",
    "\n",
    "##### Audience Reception\n",
    "\n",
    "1. Ratings:\n",
    "\n",
    "- Animation leads with highest average rating (6.01)\n",
    "- Family/War films follow with strong ratings\n",
    "- Western shows lowest ratings\n",
    "- Most genres maintain 5-7 rating range\n",
    "- Documentary shows most consistent ratings\n",
    "\n",
    "2. Popularity Patterns:\n",
    "\n",
    "- Popular movies (high vote counts) cluster around 6-7 ratings\n",
    "- Less popular movies show wider rating variation\n",
    "- Profitable movies typically have high vote counts\n",
    "- Genre impact on popularity is minimal\n",
    "\n",
    "##### Historical Trends\n",
    "\n",
    "- Ratings stabilized post-1960\n",
    "- High volatility in early years (pre-1940)\n",
    "- Modern convergence around 5-6 rating range\n",
    "- Genre distinctions decreased over time\n",
    "\n",
    "##### Risk Assessment\n",
    "\n",
    "1. Success Rates:\n",
    "\n",
    "- Adventure/Science Fiction/Fantasy: Highest success rates\n",
    "- Documentary/TV Movies: Extreme success/failure patterns\n",
    "- Horror: Good success rate with moderate risk\n",
    "\n",
    "2. Failure Rates:\n",
    "\n",
    "- Thriller/Science Fiction/Mystery: Highest failure rates\n",
    "- Action/Adventure: More moderate failure rates despite high budgets\n",
    "- Documentary: High risk but high potential return\n",
    "\n",
    "##### Key Takeaway\n",
    "\n",
    "Genre significantly impacts financial performance and risk levels. While Action/Adventure/Fantasy lead in absolute profits, smaller genres like Documentary and Horror show strong ROI potential. Ratings remain relatively consistent across genres, with Animation and Family films maintaining slight advantages. Budget size shows stronger correlation with returns than genre choice.\n"
   ]
  },
  {
   "cell_type": "markdown",
   "metadata": {},
   "source": [
    "### 5. How does poor release timing (e.g., season, holiday periods) affect a movie's likelihood of failing?"
   ]
  },
  {
   "cell_type": "code",
   "execution_count": null,
   "metadata": {},
   "outputs": [],
   "source": [
    "## code\n",
    "from src.utils.timing_analysis import *\n",
    "\n",
    "# Seasonal Analysis\n",
    "seasonal_stats = plot_seasonal_distributions(df)\n",
    "\n",
    "# Monthly Analysis\n",
    "analyze_monthly_performance(df)\n",
    "\n",
    "# Monthly ROI Analysis\n",
    "monthly_perf_df = analyze_monthly_roi(df)\n",
    "\n",
    "# Monthly Success Rate Analysis\n",
    "plot_monthly_success_rates(monthly_perf_df)\n",
    "\n",
    "# Monthly Statistics\n",
    "monthly_stats = analyze_monthly_statistics(df, monthly_perf_df)\n",
    "\n",
    "# Yearly Analysis\n",
    "yearly_performance = analyze_temporal_trends(df)"
   ]
  },
  {
   "cell_type": "markdown",
   "metadata": {},
   "source": [
    "#### 5.1 What we have done for the initial analysis\n",
    "\n",
    "- To investigate how release timing affects movie failure, we analyzed the distribution of profits and ratings across different temporal categories using violin plots. \n",
    "- We compared failure rates across seasons and months to identify particularly risky release periods. \n",
    "- To account for industry evolution, we examined the temporal trends of success and failure rates alongside movie release volume using a dual-axis visualization combining line graphs for rates and bar charts for release counts. \n",
    "\n",
    "This allowed us to identify historical patterns in optimal release timing while controlling for changes in industry output volume.\n",
    "\n",
    "\n",
    "#### 5.2 Key observations\n",
    "\n",
    "##### Seasonal Patterns\n",
    "\n",
    "1. Profitability and ROI:\n",
    "\n",
    "   - Fall shows best overall performance (high ROI: 3.46, good profit distribution)\n",
    "   - Spring has highest mean profit (7.23M USD) and median ROI (1.16)\n",
    "   - Winter consistently underperforms (lowest profit: 2.56M USD, lowest ROI: 2.77)\n",
    "   - Summer shows moderate, stable performance\n",
    "\n",
    "2. Ratings and Volume:\n",
    "\n",
    "   - Ratings remain relatively consistent across seasons (range: 4.72-5.19)\n",
    "   - Winter/Fall have highest release volumes (~13,000 movies each)\n",
    "   - Spring/Summer have fewer releases (~11,500 movies each)\n",
    "\n",
    "##### Monthly Patterns\n",
    "\n",
    "1. Strong Months:\n",
    "\n",
    "   - June/July: Highest success rates (~8%), good ROI potential\n",
    "   - December: Strong performance (high success rate, good profit potential)\n",
    "   - Summer months generally show better profit concentration\n",
    "\n",
    "2. Weak Months:\n",
    "\n",
    "   - January: Lowest success rate (~2%), volatile ROI\n",
    "   - August/September: Highest failure rates (~3%)\n",
    "   - Early fall months show increased risk\n",
    "\n",
    "##### Historical Trends\n",
    "\n",
    "- Movie volume increased significantly since 1980s\n",
    "- Success/failure rates remained relatively stable until recent years\n",
    "- Post-2000 shows increased volatility\n",
    "- Possible data anomaly showing success spike near 2020\n",
    "\n",
    "##### Key Takeaway\n",
    "\n",
    "Best release windows appear to be summer months (June/July) and December, while January and early fall carry higher risks. Fall and Spring show strongest overall financial metrics, but Winter consistently underperforms across all measures.\n"
   ]
  },
  {
   "cell_type": "markdown",
   "metadata": {},
   "source": [
    "<div style=\"border: 2px solid #4CAF50; border-radius: 10px; padding: 15px; background-color: #E8F5E9; color: #333;\">\n",
    "    <strong>📖 Narrative & Thematic Elements</strong> \n",
    "</div>"
   ]
  },
  {
   "cell_type": "markdown",
   "metadata": {},
   "source": [
    "### 6. Which tropes consistently lead to negative reception by genre?"
   ]
  },
  {
   "cell_type": "code",
   "execution_count": null,
   "metadata": {},
   "outputs": [],
   "source": [
    "## code"
   ]
  },
  {
   "cell_type": "markdown",
   "metadata": {},
   "source": [
    "#### 6.1 What we have done for the initial analysis\n",
    "\n",
    "\n",
    "#### 6.2 Key observations"
   ]
  },
  {
   "cell_type": "markdown",
   "metadata": {},
   "source": [
    "### 7. What recurring plot patterns appear most frequently in critically panned films?"
   ]
  },
  {
   "cell_type": "code",
   "execution_count": null,
   "metadata": {},
   "outputs": [],
   "source": [
    "# code"
   ]
  },
  {
   "cell_type": "markdown",
   "metadata": {},
   "source": [
    "#### 7.1 What we have done for the initial analysis\n",
    "\n",
    "\n",
    "#### 7.2 Key observations"
   ]
  }
 ],
 "metadata": {
  "kernelspec": {
   "display_name": "ada_hw1",
   "language": "python",
   "name": "python3"
  },
  "language_info": {
   "codemirror_mode": {
    "name": "ipython",
    "version": 3
   },
   "file_extension": ".py",
   "mimetype": "text/x-python",
   "name": "python",
   "nbconvert_exporter": "python",
   "pygments_lexer": "ipython3",
   "version": "3.9.20"
  }
 },
 "nbformat": 4,
 "nbformat_minor": 2
}
