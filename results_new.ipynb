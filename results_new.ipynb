{
 "cells": [
  {
   "cell_type": "markdown",
   "metadata": {},
   "source": [
    "# Milestone 2: Project proposal and initial analysis\n",
    "\n",
    "<div style=\"border: 2px solid #4CAF50; border-radius: 10px; padding: 15px; background-color: #E8F5E9; color: #333;\">\n",
    "    <strong>Project:</strong> Decoding Box-Office Bombs 💣\n",
    "    <br>\n",
    "    <strong>Team:</strong> ADAdventurers2024\n",
    "</div>\n",
    "\n",
    "To replicate our dataset, please download the data indicated in the [README](https://github.com/epfl-ada/ada-2024-project-adaventurers2024/blob/main/README.md) file. Then, navigate to the `scripts` folder and run the following script:\n",
    "\n",
    "```cmd\n",
    "python preprocess_data.py\n",
    "```\n",
    "\n",
    "This script will generate five files in the data folder:\n",
    "\n",
    "- `cmu_tmdb.csv`: A merged dataset from CMU and TMDB, containing movie information such as revenue, budget, and other details.\n",
    "- `movie_tropes.csv`: Tropes associated with each movie in the IMDb dataset, which serves as an intermediary file for merging tropes with the CMU dataset.\n",
    "- `cmu_tropes.csv`: Tropes associated with each movie in the CMU dataset.\n",
    "- `movie_actors.csv`: Actors linked to each movie in the CMU dataset.\n",
    "- `movie_directors_actors.csv`: Directors and actors linked to each movie in the IMDb dataset.\n",
    "\n",
    "You can now proceed with exploratory data analysis and initial assessments.\n",
    "\n",
    "------"
   ]
  },
  {
   "cell_type": "markdown",
   "metadata": {},
   "source": [
    "## Exploratory data analysis"
   ]
  },
  {
   "cell_type": "code",
   "execution_count": null,
   "metadata": {},
   "outputs": [],
   "source": [
    "import pandas as pd\n",
    "import numpy as np\n",
    "import seaborn as sns\n",
    "import matplotlib.pyplot as plt\n",
    "\n",
    "from src.utils.visualization_utils import *\n",
    "\n",
    "# Setup\n",
    "setup_visualization()"
   ]
  },
  {
   "cell_type": "code",
   "execution_count": null,
   "metadata": {},
   "outputs": [],
   "source": [
    "DATA_PATH = \"data\""
   ]
  },
  {
   "cell_type": "markdown",
   "metadata": {},
   "source": [
    "#### CMU revenue and other metrics"
   ]
  },
  {
   "cell_type": "code",
   "execution_count": null,
   "metadata": {},
   "outputs": [],
   "source": [
    "df_cmu_tmdb = pd.read_csv(f\"{DATA_PATH}/cmu_tmdb.csv\")\n",
    "df_cmu_tmdb.head()"
   ]
  },
  {
   "cell_type": "code",
   "execution_count": null,
   "metadata": {},
   "outputs": [],
   "source": [
    "df_cmu_tmdb.info()"
   ]
  },
  {
   "cell_type": "markdown",
   "metadata": {},
   "source": [
    "#### CMU cast and crew"
   ]
  },
  {
   "cell_type": "code",
   "execution_count": null,
   "metadata": {},
   "outputs": [],
   "source": [
    "df_movie_actors = pd.read_csv(f\"{DATA_PATH}/movie_actors.csv\")\n",
    "df_movie_actors.head()"
   ]
  },
  {
   "cell_type": "code",
   "execution_count": null,
   "metadata": {},
   "outputs": [],
   "source": [
    "df_movie_actors.info()"
   ]
  },
  {
   "cell_type": "code",
   "execution_count": null,
   "metadata": {},
   "outputs": [],
   "source": [
    "df_movie_directors_actors = pd.read_csv(f\"{DATA_PATH}/movie_directors_actors.csv\")\n",
    "df_movie_directors_actors.head()"
   ]
  },
  {
   "cell_type": "code",
   "execution_count": null,
   "metadata": {},
   "outputs": [],
   "source": [
    "df_movie_directors_actors.info()"
   ]
  },
  {
   "cell_type": "markdown",
   "metadata": {},
   "source": [
    "#### CMU tropes"
   ]
  },
  {
   "cell_type": "code",
   "execution_count": null,
   "metadata": {},
   "outputs": [],
   "source": [
    "df_cmu_tropes = pd.read_csv(f\"{DATA_PATH}/cmu_tropes.csv\")\n",
    "df_cmu_tropes.head()"
   ]
  },
  {
   "cell_type": "code",
   "execution_count": null,
   "metadata": {},
   "outputs": [],
   "source": [
    "df_cmu_tropes.info()"
   ]
  },
  {
   "cell_type": "markdown",
   "metadata": {},
   "source": [
    "--------"
   ]
  },
  {
   "cell_type": "markdown",
   "metadata": {},
   "source": [
    "## Research questions"
   ]
  },
  {
   "cell_type": "code",
   "execution_count": null,
   "metadata": {},
   "outputs": [],
   "source": [
    "import pandas as pd\n",
    "import numpy as np\n",
    "import seaborn as sns\n",
    "import matplotlib.pyplot as plt\n",
    "import ast\n",
    "import warnings\n",
    "\n",
    "warnings.filterwarnings(\"ignore\")\n",
    "\n",
    "# Set visualization style\n",
    "%matplotlib inline\n",
    "sns.set(style=\"whitegrid\", palette=\"muted\", font_scale=1.2)"
   ]
  },
  {
   "cell_type": "markdown",
   "metadata": {
    "vscode": {
     "languageId": "html"
    }
   },
   "source": [
    "<div style=\"border: 2px solid #4CAF50; border-radius: 10px; padding: 15px; background-color: #E8F5E9; color: #333;\">\n",
    "    <strong>📊 Metrics & Performance\n",
    "</strong> \n",
    "</div>\n"
   ]
  },
  {
   "cell_type": "markdown",
   "metadata": {},
   "source": [
    "### 1. What metrics (e.g., low ratings, limited number of ratings, revenue vs budget) best indicate movie failure?\n"
   ]
  },
  {
   "cell_type": "code",
   "execution_count": null,
   "metadata": {},
   "outputs": [],
   "source": [
    "## Code\n",
    "from src.utils.metric_analysis import *\n",
    "\n",
    "metric_analysis(\"data/cmu_tmdb.csv\")"
   ]
  },
  {
   "cell_type": "markdown",
   "metadata": {},
   "source": [
    "#### 1.1 What we have done for the initial analysis\n",
    "\n",
    "- We examined distributions of key metrics (vote average, revenue, profit, and revenue-to-budget ratio) using histograms with kernel density estimation.\n",
    "- We visualized relationships between critical variables through scatter plots, particularly focusing on vote average vs. count and financial metrics vs. budget.\n",
    "- We calculated and visualized a correlation matrix to quantify relationships between `vote_average`, `vote_count`, `revenue`, `budget`, and `profit`.\n",
    "- We preprocessed the data by removing zero-value entries and calculating derived metrics such as profit and revenue-to-budget ratios.\n",
    "- We applied logarithmic transformations to handle the high skewness in financial data distributions.\n",
    "\n",
    "#### 1.2 Key observations\n",
    "\n",
    "##### Distribution Analysis\n",
    "\n",
    "1. Vote Average:\n",
    "\n",
    "   - Normal distribution centered around 6.0-6.5\n",
    "   - Range primarily between 4-8\n",
    "   - Very few movies rated below 4 or above 8\n",
    "\n",
    "2. Revenue and Profit (Log Scale):\n",
    "\n",
    "   - Both show right-skewed distributions\n",
    "   - Revenue peaks around 15-17 on log scale\n",
    "   - Profit shows similar pattern but with more spread\n",
    "   - Small cluster of extremely high performers\n",
    "\n",
    "3. Revenue-to-Budget Ratio (Log Scale):\n",
    "   - Heavily right-skewed\n",
    "   - Most movies cluster between 0-2 (log scale)\n",
    "   - Long tail indicating few movies with exceptional ROI\n",
    "\n",
    "##### Relationship Analysis\n",
    "\n",
    "1. Vote Average vs. Vote Count:\n",
    "\n",
    "   - Positive correlation (0.38)\n",
    "   - Higher vote counts tend toward 6-8 rating range\n",
    "   - More rating variance with fewer votes\n",
    "   - Ratings stabilize with increased votes\n",
    "\n",
    "2. Revenue/Profit vs. Budget:\n",
    "\n",
    "   - Strong positive correlation (revenue-budget: 0.72)\n",
    "   - Higher budgets show wider profit variance\n",
    "   - Some high-budget outliers with exceptional returns\n",
    "   - Most movies cluster in lower budget range with moderate returns\n",
    "\n",
    "3. Rating vs. Revenue:\n",
    "   - Weak positive correlation (0.20)\n",
    "   - Higher-rated movies tend to have slightly better revenue\n",
    "   - Wide revenue spread regardless of rating\n",
    "   - Log-scale reveals clearer pattern at higher ratings\n",
    "\n",
    "##### Correlation Matrix Insights\n",
    "\n",
    "1. Strongest Correlations:\n",
    "\n",
    "   - Revenue-Profit: 0.98 (very strong)\n",
    "   - Revenue-Vote Count: 0.77 (strong)\n",
    "   - Profit-Vote Count: 0.75 (strong)\n",
    "\n",
    "2. Weak Correlations:\n",
    "   - Vote Average-Budget: 0.028 (negligible)\n",
    "   - Vote Average-Revenue: 0.20 (weak)\n",
    "   - Vote Average-Profit: 0.23 (weak)\n",
    "\n",
    "These patterns suggest that while ratings have some influence on success, volume of audience engagement (vote count) and budget size are stronger predictors of financial performance. The extremely high correlation between revenue and profit suggests that cost management might be less critical than revenue generation for overall success.\n"
   ]
  },
  {
   "cell_type": "markdown",
   "metadata": {},
   "source": [
    "<div style=\"border: 2px solid #4CAF50; border-radius: 10px; padding: 15px; background-color: #E8F5E9; color: #333;\">\n",
    "    <strong>👥 Cast & Crew Analysis</strong> \n",
    "</div>\n"
   ]
  },
  {
   "cell_type": "markdown",
   "metadata": {},
   "source": [
    "### 2. How do actor demographics and lack of diversity impact audience disengagement and contribute to box office underperformance?"
   ]
  },
  {
   "cell_type": "code",
   "execution_count": null,
   "metadata": {},
   "outputs": [],
   "source": [
    "## code\n",
    "from src.utils.actor_analysis import *\n",
    "\n",
    "actor_analysis(\"data/movie_actors.csv\", \"data/wikidata_ethnicities.csv\")"
   ]
  },
  {
   "cell_type": "markdown",
   "metadata": {},
   "source": [
    "#### 2.1 What we have done for the initial analysis\n",
    "\n",
    "\n",
    "#### 2.2 Key observations"
   ]
  },
  {
   "cell_type": "markdown",
   "metadata": {},
   "source": [
    "### 3. Is thematic consistency in director filmographies a predictor of movie failure?"
   ]
  },
  {
   "cell_type": "code",
   "execution_count": null,
   "metadata": {},
   "outputs": [],
   "source": [
    "## code\n",
    "from src.utils.director_analysis import *\n",
    "\n",
    "director_analysis(\"data/movie_directors_actors.csv\")"
   ]
  },
  {
   "cell_type": "code",
   "execution_count": null,
   "metadata": {},
   "outputs": [],
   "source": [
    "import pandas as pd\n",
    "import numpy as np\n",
    "import json\n",
    "import matplotlib.pyplot as plt\n",
    "import statsmodels.api as sm\n",
    "\n",
    "# Load the dataset\n",
    "df = pd.read_csv('./data/movie_directors_actors.csv')\n",
    "\n",
    "# Parse 'genres_x' into lists\n",
    "df['genres_list'] = df['genres_x'].fillna('').apply(lambda x: x.split(',') if x != '\\\\N' else [])\n",
    "\n",
    "# Function to parse 'genres_y' strings\n",
    "def parse_genres_y(s):\n",
    "    try:\n",
    "        if pd.isnull(s) or s == '\\\\N':\n",
    "            return []\n",
    "        # Replace double double-quotes with single double-quotes and remove backslashes\n",
    "        s = s.replace('\"\"', '\"').replace('\\\\', '')\n",
    "        genres_dict = json.loads(s)\n",
    "        return list(genres_dict.values())\n",
    "    except json.JSONDecodeError:\n",
    "        return []\n",
    "\n",
    "# Apply the function to 'genres_y'\n",
    "df['genres_y_list'] = df['genres_y'].apply(parse_genres_y)\n",
    "\n",
    "# Combine the two genre lists\n",
    "df['all_genres'] = df['genres_list'] + df['genres_y_list']\n",
    "\n",
    "# Convert to numeric types\n",
    "df['revenue'] = pd.to_numeric(df['revenue'], errors='coerce')\n",
    "df['average_rating'] = pd.to_numeric(df['average_rating'], errors='coerce')\n",
    "\n",
    "# Explode the genres\n",
    "df_exploded = df.explode('all_genres')\n",
    "\n",
    "# Remove rows with empty genres\n",
    "df_exploded = df_exploded[df_exploded['all_genres'].notna() & (df_exploded['all_genres'] != '')]\n",
    "\n",
    "# Group by director and genre\n",
    "grouped = df_exploded.groupby(['director_name', 'all_genres'])\n",
    "\n",
    "# Compute the metrics\n",
    "result = grouped.agg(\n",
    "    num_movies=('movie_id', 'nunique'),\n",
    "    avg_revenue=('revenue', 'mean'),\n",
    "    avg_rating=('average_rating', 'mean')\n",
    ").reset_index()\n",
    "\n",
    "# Number of genres per director\n",
    "director_genre_counts = result.groupby('director_name').agg(\n",
    "    num_genres=('all_genres', 'nunique'),\n",
    "    total_movies=('num_movies', 'sum'),\n",
    "    overall_avg_revenue=('avg_revenue', 'mean'),\n",
    "    overall_avg_rating=('avg_rating', 'mean')\n",
    ").reset_index()\n",
    "\n",
    "# Correlation analysis\n",
    "correlation_revenue = director_genre_counts['num_genres'].corr(director_genre_counts['overall_avg_revenue'])\n",
    "correlation_rating = director_genre_counts['num_genres'].corr(director_genre_counts['overall_avg_rating'])\n",
    "\n",
    "print(f\"Correlation between number of genres and average revenue: {correlation_revenue}\")\n",
    "print(f\"Correlation between number of genres and average rating: {correlation_rating}\")\n",
    "\n",
    "# Display the result\n",
    "print(director_genre_counts)\n",
    "\n",
    "# Visualization for Revenue\n",
    "plt.figure(figsize=(10, 6))\n",
    "plt.scatter(director_genre_counts['num_genres'], director_genre_counts['overall_avg_revenue'])\n",
    "plt.xlabel('Number of Genres')\n",
    "plt.ylabel('Overall Average Revenue')\n",
    "plt.title('Number of Genres vs. Average Revenue')\n",
    "plt.grid(True)\n",
    "plt.show()\n",
    "\n",
    "# Visualization for Rating\n",
    "plt.figure(figsize=(10, 6))\n",
    "plt.scatter(director_genre_counts['num_genres'], director_genre_counts['overall_avg_rating'])\n",
    "plt.xlabel('Number of Genres')\n",
    "plt.ylabel('Overall Average Rating')\n",
    "plt.title('Number of Genres vs. Average Rating')\n",
    "plt.grid(True)\n",
    "plt.show()\n",
    "\n",
    "# Regression Analysis for Revenue\n",
    "X = director_genre_counts[['num_genres']]\n",
    "y_revenue = director_genre_counts['overall_avg_revenue']\n",
    "X_with_const = sm.add_constant(X)\n",
    "model_revenue = sm.OLS(y_revenue, X_with_const).fit()\n",
    "print(model_revenue.summary())\n",
    "\n",
    "# Regression Analysis for Rating\n",
    "y_rating = director_genre_counts['overall_avg_rating']\n",
    "model_rating = sm.OLS(y_rating, X_with_const).fit()\n",
    "print(model_rating.summary())\n"
   ]
  },
  {
   "cell_type": "markdown",
   "metadata": {},
   "source": [
    "The first step towards analysing the role that direction plays in a film failure or success was to gather data on directors from Wikipedia. The figure shows the profile of the films released by director Terrence Malick over the years. Such profile was assembled for over 2,000 directors. A first look at the profiles shows that most directors don't have an extensive filmography, i.e. they directed 2 films or less, whilst a few individuals are very prolific. The next steps will inculde building collaboration and award profiles and identifying clusters of unsuccessful directors.\n",
    "\n",
    "The second figure shows the number of different genres a director explored in their filmography and the corresponding average revenue made over the course of their career. Most directors tend to focus on a limited number of genres (<20) while only a fraction of directors make films across 60+ genres. One observes that directors making films across an extreme number of genres tend to perform poorly. On the other hand, the directors with the highest-grossing filmography directed films spanning 15 to 30 genres. The picture is different when the metric used to indicate success is the IMDB rating. In this case, wildly different ratings (0-10) can be observed for directors who made films that enter a narrow range of genre categories (thid figure). Then, as the number of genre increase, the average rating over the filmography converges towards a rating of 7/10, which suggests that versatile directors tend to make good, although not great, films."
   ]
  },
  {
   "cell_type": "markdown",
   "metadata": {},
   "source": [
    "#### 3.1 What we have done for the initial analysis\n",
    "\n",
    "\n",
    "#### 3.2 Key observations"
   ]
  },
  {
   "cell_type": "markdown",
   "metadata": {
    "vscode": {
     "languageId": "html"
    }
   },
   "source": [
    "<div style=\"border: 2px solid #4CAF50; border-radius: 10px; padding: 15px; background-color: #E8F5E9; color: #333;\">\n",
    "    <strong>🎬 Genre & Market Factors</strong> \n",
    "</div>"
   ]
  },
  {
   "cell_type": "markdown",
   "metadata": {},
   "source": [
    "### 4. How does genre choice influence a movie's failure, particularly in different cultural contexts?"
   ]
  },
  {
   "cell_type": "code",
   "execution_count": null,
   "metadata": {},
   "outputs": [],
   "source": [
    "## code\n",
    "from src.utils.genre_analysis import *\n",
    "\n",
    "df, df_genres = prepare_data(\"data/cmu_tmdb.csv\")\n",
    "unique_genres = sorted(df_genres[\"genres\"].unique())\n",
    "genre_colors = create_genre_colors(unique_genres)\n",
    "\n",
    "# Basic Analysis\n",
    "plot_genre_distributions(df_genres, genre_colors)\n",
    "\n",
    "# Performance Analysis\n",
    "plot_genre_performance(df_genres, genre_colors)\n",
    "\n",
    "# Temporal Analysis\n",
    "analyze_temporal_trends(df_genres, genre_colors, unique_genres)\n",
    "\n",
    "# ROI Analysis\n",
    "df, df_genres = analyze_roi(df, df_genres, genre_colors)\n",
    "\n",
    "# Budget Analysis\n",
    "budget_stats = analyze_budget_categories(df)\n",
    "\n",
    "# Success/Failure Rate Analysis\n",
    "performance_stats = analyze_success_failure_rates(\n",
    "    df_genres, genre_colors, unique_genres\n",
    ")\n",
    "\n",
    "# Summary Statistics\n",
    "summary_stats = get_summary_statistics(df_genres)"
   ]
  },
  {
   "cell_type": "markdown",
   "metadata": {},
   "source": [
    "#### 4.1 What we have done for the initial analysis\n",
    "\n",
    "We employed several analytical approaches to understand genre impact on movie failure. \n",
    "\n",
    "- First, we used violin plots with symmetric log scaling to visualize profit distribution across genres, capturing both the central tendency and spread of financial performance. \n",
    "- To understand cultural reception, we analyzed the relationship between ratings and popularity (measured by vote count) using scatter plots with logarithmic scaling for vote counts. \n",
    "- We tracked genre performance over time using 5-year moving averages to identify long-term trends in audience reception. \n",
    "- Finally, we calculated and compared genre-specific success and failure rates to identify which genres carry the highest risk of significant financial loss.\n",
    "\n",
    "\n",
    "#### 4.2 Key observations\n",
    "\n",
    "##### Financial Performance by Genre\n",
    "\n",
    "1. High-Profit Potential:\n",
    "\n",
    "- Action/Adventure/Fantasy lead in extreme profits (mean profits: 13-25M USD)\n",
    "- Documentary/TV Movies show lowest profits but highest ROI (9.03 and 7.13)\n",
    "- Horror shows strong ROI (5.69) with moderate investment\n",
    "- Drama (most common genre, 22,560 movies) shows modest profits (3.47M USD)\n",
    "\n",
    "2. Budget Impact:\n",
    "\n",
    "- Very low budget films: Highest ROI potential but highest volatility\n",
    "- High budget films: More consistent but lower returns\n",
    "- Clear inverse relationship between budget size and ROI potential\n",
    "\n",
    "##### Audience Reception\n",
    "\n",
    "1. Ratings:\n",
    "\n",
    "- Animation leads with highest average rating (6.01)\n",
    "- Family/War films follow with strong ratings\n",
    "- Western shows lowest ratings\n",
    "- Most genres maintain 5-7 rating range\n",
    "- Documentary shows most consistent ratings\n",
    "\n",
    "2. Popularity Patterns:\n",
    "\n",
    "- Popular movies (high vote counts) cluster around 6-7 ratings\n",
    "- Less popular movies show wider rating variation\n",
    "- Profitable movies typically have high vote counts\n",
    "- Genre impact on popularity is minimal\n",
    "\n",
    "##### Historical Trends\n",
    "\n",
    "- Ratings stabilized post-1960\n",
    "- High volatility in early years (pre-1940)\n",
    "- Modern convergence around 5-6 rating range\n",
    "- Genre distinctions decreased over time\n",
    "\n",
    "##### Risk Assessment\n",
    "\n",
    "1. Success Rates:\n",
    "\n",
    "- Adventure/Science Fiction/Fantasy: Highest success rates\n",
    "- Documentary/TV Movies: Extreme success/failure patterns\n",
    "- Horror: Good success rate with moderate risk\n",
    "\n",
    "2. Failure Rates:\n",
    "\n",
    "- Thriller/Science Fiction/Mystery: Highest failure rates\n",
    "- Action/Adventure: More moderate failure rates despite high budgets\n",
    "- Documentary: High risk but high potential return\n",
    "\n",
    "##### Key Takeaway\n",
    "\n",
    "Genre significantly impacts financial performance and risk levels. While Action/Adventure/Fantasy lead in absolute profits, smaller genres like Documentary and Horror show strong ROI potential. Ratings remain relatively consistent across genres, with Animation and Family films maintaining slight advantages. Budget size shows stronger correlation with returns than genre choice.\n"
   ]
  },
  {
   "cell_type": "markdown",
   "metadata": {},
   "source": [
    "### 5. How does poor release timing (e.g., season, holiday periods) affect a movie's likelihood of failing?"
   ]
  },
  {
   "cell_type": "code",
   "execution_count": null,
   "metadata": {},
   "outputs": [],
   "source": [
    "## code\n",
    "from src.utils.timing_analysis import *\n",
    "\n",
    "# Seasonal Analysis\n",
    "seasonal_stats = plot_seasonal_distributions(df)\n",
    "\n",
    "# Monthly Analysis\n",
    "analyze_monthly_performance(df)\n",
    "\n",
    "# Monthly ROI Analysis\n",
    "monthly_perf_df = analyze_monthly_roi(df)\n",
    "\n",
    "# Monthly Success Rate Analysis\n",
    "plot_monthly_success_rates(monthly_perf_df)\n",
    "\n",
    "# Monthly Statistics\n",
    "monthly_stats = analyze_monthly_statistics(df, monthly_perf_df)\n",
    "\n",
    "# Yearly Analysis\n",
    "yearly_performance = analyze_temporal_trends(df)"
   ]
  },
  {
   "cell_type": "markdown",
   "metadata": {},
   "source": [
    "#### 5.1 What we have done for the initial analysis\n",
    "\n",
    "- To investigate how release timing affects movie failure, we analyzed the distribution of profits and ratings across different temporal categories using violin plots. \n",
    "- We compared failure rates across seasons and months to identify particularly risky release periods. \n",
    "- To account for industry evolution, we examined the temporal trends of success and failure rates alongside movie release volume using a dual-axis visualization combining line graphs for rates and bar charts for release counts. \n",
    "\n",
    "This allowed us to identify historical patterns in optimal release timing while controlling for changes in industry output volume.\n",
    "\n",
    "\n",
    "#### 5.2 Key observations\n",
    "\n",
    "##### Seasonal Patterns\n",
    "\n",
    "1. Profitability and ROI:\n",
    "\n",
    "   - Fall shows best overall performance (high ROI: 3.46, good profit distribution)\n",
    "   - Spring has highest mean profit (7.23M USD) and median ROI (1.16)\n",
    "   - Winter consistently underperforms (lowest profit: 2.56M USD, lowest ROI: 2.77)\n",
    "   - Summer shows moderate, stable performance\n",
    "\n",
    "2. Ratings and Volume:\n",
    "\n",
    "   - Ratings remain relatively consistent across seasons (range: 4.72-5.19)\n",
    "   - Winter/Fall have highest release volumes (~13,000 movies each)\n",
    "   - Spring/Summer have fewer releases (~11,500 movies each)\n",
    "\n",
    "##### Monthly Patterns\n",
    "\n",
    "1. Strong Months:\n",
    "\n",
    "   - June/July: Highest success rates (~8%), good ROI potential\n",
    "   - December: Strong performance (high success rate, good profit potential)\n",
    "   - Summer months generally show better profit concentration\n",
    "\n",
    "2. Weak Months:\n",
    "\n",
    "   - January: Lowest success rate (~2%), volatile ROI\n",
    "   - August/September: Highest failure rates (~3%)\n",
    "   - Early fall months show increased risk\n",
    "\n",
    "##### Historical Trends\n",
    "\n",
    "- Movie volume increased significantly since 1980s\n",
    "- Success/failure rates remained relatively stable until recent years\n",
    "- Post-2000 shows increased volatility\n",
    "- Possible data anomaly showing success spike near 2020\n",
    "\n",
    "##### Key Takeaway\n",
    "\n",
    "Best release windows appear to be summer months (June/July) and December, while January and early fall carry higher risks. Fall and Spring show strongest overall financial metrics, but Winter consistently underperforms across all measures.\n"
   ]
  },
  {
   "cell_type": "markdown",
   "metadata": {},
   "source": [
    "<div style=\"border: 2px solid #4CAF50; border-radius: 10px; padding: 15px; background-color: #E8F5E9; color: #333;\">\n",
    "    <strong>📖 Narrative & Thematic Elements</strong> \n",
    "</div>"
   ]
  },
  {
   "cell_type": "markdown",
   "metadata": {},
   "source": [
    "A trope is a commonly recurring store-telling device in creative works. In film, tropes can be anything from narrative patterns (like the \"last-minute rescue\") to character archetypes (like the \"mad scientist\"), or even specific plot devices (like \"time-traveling mishaps\"). While tropes aren't inherently good or bad, their execution and context largely determine their effectiveness in storytelling.\n",
    "\n",
    "This analysis examines tropes that appear disproportionately often in poorly-rated films. Our first step is identify the most common tropes in low-rated films, to then explore each genre individually, and finally compare the results across genres."
   ]
  },
  {
   "cell_type": "code",
   "execution_count": null,
   "metadata": {},
   "outputs": [],
   "source": [
    "from src.utils.trope_analysis import *"
   ]
  },
  {
   "cell_type": "markdown",
   "metadata": {},
   "source": [
    "### 6. What recurring plot patterns appear most frequently in critically panned films?"
   ]
  },
  {
   "cell_type": "code",
   "execution_count": null,
   "metadata": {},
   "outputs": [],
   "source": [
    "df_movie_tropes = pd.read_csv('data/movie_tropes.csv')\n",
    "\n",
    "rq6(\n",
    "    df_cmu_tmdb,\n",
    "    df_movie_tropes,\n",
    "    k=20,\n",
    "    vote_threshold=6.0,\n",
    ")"
   ]
  },
  {
   "cell_type": "markdown",
   "metadata": {},
   "source": [
    "#### 6.1. What we have done for the initial analysis\n",
    "\n",
    "To explore the relationship between narrative tropes and audience reception, we first established a rating threshold of 6.0 on a 10-point scale to distinguish between low and high-rated movies. Starting with low-rated films, we identified the 20 most common tropes and visualized their frequencies using a bar plot.\n",
    "\n",
    "#### 6.2. Key observations\n",
    "\n",
    "* The mean vote average for the dataset was 5.44, with a median of 5.6 after filtering out movies rated 6 or lower.\n",
    "* The top 20 most common tropes in low-rated films were identified, with \"ShotOut,\" \"HorrorFilms,\" \"FilmsOfThe1980s,\" \"BigBad,\" and \"LargeHam\" being the top 5, each appearing in over 80 films.\n",
    "\n",
    "Now, we will analyze the distribution of these tropes across different genres."
   ]
  },
  {
   "cell_type": "markdown",
   "metadata": {},
   "source": [
    "### 7. Which tropes consistently lead to negative reception by genre?"
   ]
  },
  {
   "cell_type": "code",
   "execution_count": null,
   "metadata": {},
   "outputs": [],
   "source": [
    "for genre in ['Horror', 'Adventure', 'Comedy']:\n",
    "    vote_threshold = 6\n",
    "\n",
    "    rq7(\n",
    "        df_cmu_tropes,\n",
    "        genre,\n",
    "        vote_threshold=6.0\n",
    "    )"
   ]
  },
  {
   "cell_type": "markdown",
   "metadata": {},
   "source": [
    "#### 7.1. What we have done for the initial analysis\n",
    "\n",
    "We focused our initial analysis on three specific genres: Horror, Adventure, and Comedy. For each genre, we categorized films into low-rated (≤6.0) and high-rated (>6.0) groups and analyzed the tropes associated with each category. To highlight tropes that were disproportionately present in poorly received films, we calculated the ratio of trope occurrences in low-rated films to high-rated films. Finally, we visualized the top 10 tropes with the highest low-to-high rating ratios for each genre to identify patterns that might contribute to negative audience reception. The y-axis lists the tropes, while the x-axis shows the ratio of appearance in low-rated vs. high-rated films.\n",
    "\n",
    "#### 7.2. Key observations\n",
    "\n",
    "Key observations for horror films:\n",
    "- \"BadSanta\" and \"JackassGenie\" tropes have the highest ratios (approximately 9-10x), suggesting these supernatural antagonist concepts rarely work well in horror films\n",
    "- Mid-tier ratios (6-7x) include concepts like \"AttackOfTheTownFestival\" and \"SelfPlagiarism\", indicating that festival-horror settings and derivative storytelling tend to correlate with lower ratings\n",
    "\n",
    "Key observations for adventure films:\n",
    "- \"NotScreenedForCritics\" tops the list (about 7.5x ratio), appearing in both comedy and adventure genres' low-rated films, suggesting it's a reliable indicator of lower quality across genres\n",
    "- Superhero-related tropes (\"Superman\" and \"TeenSuperspy\" at ~6x and 5x respectively) indicate that certain superhero elements may be challenging to execute well in adventure films\n",
    "\n",
    "Key observation for comedy films:\n",
    "- \"ContinuityReboot\" has the highest ratio (around 9.5x), suggesting that comedy reboots of existing properties tend to be challenging to execute well\n",
    "- Meta-industry tropes like \"NotScreenedForCritics\" and \"SlasherFilm\" (both ~5.5x) hint that comedies avoiding critical review or parodying horror often receive poor ratings\n",
    "- Plot devices like \"FakinMacGuffin\" and \"LastRequest\" (both ~8x) appear to be overused in lower quality comedies\n",
    "- Character-based tropes such as \"TeenSuperspy\" and \"LiteralSplitPersonality\" (both ~5x) show that certain character archetypes may be harder to execute successfully\n",
    "\n",
    "#### 7.3. Next steps\n",
    "\n",
    "We will expand the previous analysis to include all the genres, comparing the results to identify differences and similarities in how tropes influence reception across genres. Additionally, we plan to investigate the occurrence of tropes combinations in movies that failed by examining different tuples of up to three tropes, such as (\"Love Triangle\", \"Secret Identity\", \"Big Damn Kiss\"), to determine if certain trope combinations are more prone to result in a movie's failure."
   ]
  }
 ],
 "metadata": {
  "kernelspec": {
   "display_name": "ada",
   "language": "python",
   "name": "python3"
  },
  "language_info": {
   "codemirror_mode": {
    "name": "ipython",
    "version": 3
   },
   "file_extension": ".py",
   "mimetype": "text/x-python",
   "name": "python",
   "nbconvert_exporter": "python",
   "pygments_lexer": "ipython3",
   "version": "3.10.15"
  }
 },
 "nbformat": 4,
 "nbformat_minor": 2
}
