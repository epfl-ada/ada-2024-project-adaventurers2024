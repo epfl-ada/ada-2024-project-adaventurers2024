{
 "cells": [
  {
   "cell_type": "code",
   "execution_count": 2,
   "metadata": {},
   "outputs": [
    {
     "name": "stdout",
     "output_type": "stream",
     "text": [
      "Pair plot saved as ../../docs/_includes/plotly/rq1_metrics.html\n"
     ]
    }
   ],
   "source": [
    "import pandas as pd\n",
    "import plotly.express as px\n",
    "import plotly.figure_factory as ff\n",
    "\n",
    "# Load the dataset (Replace 'your_dataset.json' with your actual file path)\n",
    "file_path = (\n",
    "    \"../../docs/assets/data/metrics.json\"  # Use .csv if your dataset is in CSV format\n",
    ")\n",
    "df = pd.read_json(file_path)\n",
    "\n",
    "# Select necessary columns\n",
    "columns_to_plot = [\"vote_average\", \"revenue\", \"ROI\"]\n",
    "\n",
    "\n",
    "# Custom function to create histograms on the diagonal\n",
    "def custom_pair_plot(df, dimensions):\n",
    "    fig = ff.create_scatterplotmatrix(\n",
    "        df[dimensions],\n",
    "        diag=\"histogram\",  # Add histograms on the diagonal\n",
    "        height=800,\n",
    "        width=800,\n",
    "        colormap=\"Viridis\",\n",
    "        title=\"Pair Plot with Histograms and Fitted Curves\",\n",
    "    )\n",
    "\n",
    "    # Add regression lines for scatter plots\n",
    "    for i, dim_x in enumerate(dimensions):\n",
    "        for j, dim_y in enumerate(dimensions):\n",
    "            if i > j:  # Only for scatter plots below the diagonal\n",
    "                scatter_fig = px.scatter(\n",
    "                    df, x=dim_x, y=dim_y, trendline=\"ols\"  # Add OLS fit line\n",
    "                )\n",
    "                trendline_data = scatter_fig.data[1]  # Extract trendline\n",
    "                scatter_data = scatter_fig.data[0]  # Scatter points\n",
    "\n",
    "                # Add scatter points to the main plot\n",
    "                fig.add_traces([scatter_data])\n",
    "\n",
    "                # Add trendline to the main plot\n",
    "                fig.add_traces([trendline_data])\n",
    "\n",
    "    # Update layout for better visualization\n",
    "    fig.update_layout(\n",
    "        title=dict(font=dict(size=20)),\n",
    "        template=\"plotly_white\",\n",
    "    )\n",
    "    return fig\n",
    "\n",
    "\n",
    "# Generate the interactive plot\n",
    "fig = custom_pair_plot(df, columns_to_plot)\n",
    "\n",
    "# Save to HTML\n",
    "output_file = \"../../docs/_includes/plotly/rq1_metrics.html\"\n",
    "fig.write_html(output_file)\n",
    "\n",
    "print(f\"Pair plot saved as {output_file}\")"
   ]
  }
 ],
 "metadata": {
  "kernelspec": {
   "display_name": "ada",
   "language": "python",
   "name": "python3"
  },
  "language_info": {
   "codemirror_mode": {
    "name": "ipython",
    "version": 3
   },
   "file_extension": ".py",
   "mimetype": "text/x-python",
   "name": "python",
   "nbconvert_exporter": "python",
   "pygments_lexer": "ipython3",
   "version": "3.11.10"
  }
 },
 "nbformat": 4,
 "nbformat_minor": 2
}
