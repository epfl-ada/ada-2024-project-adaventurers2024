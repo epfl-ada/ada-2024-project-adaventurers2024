{
 "cells": [
  {
   "cell_type": "markdown",
   "metadata": {},
   "source": [
    "# Saving the tropes data in json files to be used in the web app"
   ]
  },
  {
   "cell_type": "markdown",
   "metadata": {},
   "source": [
    "### 1. Filtering tropes with a minimum number of votes"
   ]
  },
  {
   "cell_type": "code",
   "execution_count": 1,
   "metadata": {},
   "outputs": [
    {
     "name": "stdout",
     "output_type": "stream",
     "text": [
      "Number of unique tropes: 23667\n",
      "Number of unique movies: 2549\n",
      "Shape of the filtered dataset: (203581, 11)\n"
     ]
    }
   ],
   "source": [
    "import pandas as pd\n",
    "import json\n",
    "\n",
    "from pathlib import Path\n",
    "\n",
    "DATA_PATH = '../../data/'\n",
    "OUTPUT_PATH = '../../data/preprocessed/'\n",
    "\n",
    "MIN_VOTES = 100\n",
    "\n",
    "df_tropes = pd.read_csv(f'{DATA_PATH}imdb_tropes.csv')\n",
    "df_tropes = df_tropes[['trope_id', 'trope', 'description', 'example']]\n",
    "df_tropes.drop_duplicates(subset='trope_id', keep='first', inplace=True)\n",
    "\n",
    "df_cmu_tropes = pd.read_csv(f'{DATA_PATH}cmu_tropes.csv')\n",
    "\n",
    "df_tropes_filtered = df_cmu_tropes[\n",
    "    (df_cmu_tropes[[\"vote_average\", \"revenue\"]] != 0).all(axis=1)\n",
    "]\n",
    "\n",
    "df_tropes_filtered = df_tropes_filtered[df_tropes_filtered['vote_count'] > MIN_VOTES]\n",
    "df_tropes_filtered = df_tropes_filtered.sort_values(by=\"vote_average\")\n",
    "df_tropes_filtered.reset_index(drop=True, inplace=True)\n",
    "print(f\"Number of unique tropes: {df_tropes_filtered['trope'].nunique()}\")\n",
    "print(f\"Number of unique movies: {df_tropes_filtered['imdb_id'].nunique()}\")\n",
    "print(f\"Shape of the filtered dataset: {df_tropes_filtered.shape}\")\n",
    "\n",
    "# If the output path does not exist, we create it\n",
    "Path(OUTPUT_PATH).mkdir(parents=True, exist_ok=True)"
   ]
  },
  {
   "cell_type": "markdown",
   "metadata": {},
   "source": [
    "### 2. Getting genres"
   ]
  },
  {
   "cell_type": "code",
   "execution_count": 2,
   "metadata": {},
   "outputs": [
    {
     "name": "stdout",
     "output_type": "stream",
     "text": [
      "19 unique genres: {'War', 'Drama', 'All', 'Science Fiction', 'Documentary', 'Fantasy', 'Romance', 'Comedy', 'Mystery', 'Family', 'Thriller', 'Animation', 'Adventure', 'Horror', 'Action', 'Crime', 'History', 'Music', 'Western'}\n"
     ]
    }
   ],
   "source": [
    "unique_str_genres = df_tropes_filtered['genres'].unique()\n",
    "unique_genres = set()\n",
    "\n",
    "for str_genres in unique_str_genres:\n",
    "    for genre in str_genres.split(\",\"):\n",
    "        unique_genres.add(genre.strip())\n",
    "\n",
    "unique_genres.add(\"All\")\n",
    "\n",
    "print(f\"{len(unique_genres)} unique genres: {unique_genres}\")"
   ]
  },
  {
   "cell_type": "markdown",
   "metadata": {},
   "source": [
    "### 3. Top k tropes for each genre and in general"
   ]
  },
  {
   "cell_type": "code",
   "execution_count": 3,
   "metadata": {},
   "outputs": [
    {
     "name": "stdout",
     "output_type": "stream",
     "text": [
      "Genre Drama has 5 tropes with a ratio of low-rated movies to high-rated movies\n",
      "Genre All has 5 tropes with a ratio of low-rated movies to high-rated movies\n",
      "Genre Science Fiction has 5 tropes with a ratio of low-rated movies to high-rated movies\n",
      "Genre Fantasy has 5 tropes with a ratio of low-rated movies to high-rated movies\n",
      "Genre Romance has 5 tropes with a ratio of low-rated movies to high-rated movies\n",
      "Genre Comedy has 5 tropes with a ratio of low-rated movies to high-rated movies\n",
      "Genre Mystery has 5 tropes with a ratio of low-rated movies to high-rated movies\n",
      "Genre Family has 5 tropes with a ratio of low-rated movies to high-rated movies\n",
      "Genre Thriller has 5 tropes with a ratio of low-rated movies to high-rated movies\n",
      "Genre Adventure has 5 tropes with a ratio of low-rated movies to high-rated movies\n",
      "Genre Horror has 5 tropes with a ratio of low-rated movies to high-rated movies\n",
      "Genre Action has 5 tropes with a ratio of low-rated movies to high-rated movies\n",
      "Genre Crime has 5 tropes with a ratio of low-rated movies to high-rated movies\n"
     ]
    }
   ],
   "source": [
    "THRESHOLD = 6.0\n",
    "K = 5\n",
    "\n",
    "df_low_rated_tropes = df_tropes_filtered[df_tropes_filtered['vote_average'] < THRESHOLD]\n",
    "df_high_rated_tropes = df_tropes_filtered[df_tropes_filtered['vote_average'] >= THRESHOLD]\n",
    "\n",
    "for genre in unique_genres:\n",
    "    if genre == \"All\":\n",
    "        df_lr_genre_tropes = df_low_rated_tropes\n",
    "        df_hr_genre_tropes = df_high_rated_tropes\n",
    "    else:\n",
    "        df_lr_genre_tropes = df_low_rated_tropes[df_low_rated_tropes['genres'].str.contains(genre)]\n",
    "        df_hr_genre_tropes = df_high_rated_tropes[df_high_rated_tropes['genres'].str.contains(genre)]\n",
    "\n",
    "    low_rated_tropes = df_lr_genre_tropes.trope_id.value_counts().to_dict()\n",
    "    high_rated_tropes = df_hr_genre_tropes.trope_id.value_counts().to_dict()\n",
    "\n",
    "    trope_ratios = {}\n",
    "    for trope_id in low_rated_tropes:\n",
    "        low_count = low_rated_tropes[trope_id]\n",
    "        high_count = high_rated_tropes.get(trope_id, 0)\n",
    "\n",
    "        if low_count >= 5:\n",
    "            ratio = low_count / (high_count + 1)\n",
    "            trope_ratios[trope_id] = ratio\n",
    "\n",
    "    if len(trope_ratios) < K:\n",
    "        continue\n",
    "\n",
    "    sorted_tropes = sorted(trope_ratios.items(), key=lambda x: x[1], reverse=True)[:K]\n",
    "    df = pd.DataFrame(sorted_tropes, columns=[\"trope_id\", \"ratio\"])\n",
    "    df = df.merge(df_tropes, on=\"trope_id\", how=\"inner\")\n",
    "    df[\"img_url\"] = \"\"\n",
    "    df.to_json(f'{OUTPUT_PATH}{genre.lower()}_tropes.json', orient='records')\n",
    "    print(f\"Genre {genre} has {len(sorted_tropes)} tropes with a ratio of low-rated movies to high-rated movies\")"
   ]
  }
 ],
 "metadata": {
  "kernelspec": {
   "display_name": "ada",
   "language": "python",
   "name": "python3"
  },
  "language_info": {
   "codemirror_mode": {
    "name": "ipython",
    "version": 3
   },
   "file_extension": ".py",
   "mimetype": "text/x-python",
   "name": "python",
   "nbconvert_exporter": "python",
   "pygments_lexer": "ipython3",
   "version": "3.10.15"
  }
 },
 "nbformat": 4,
 "nbformat_minor": 2
}
